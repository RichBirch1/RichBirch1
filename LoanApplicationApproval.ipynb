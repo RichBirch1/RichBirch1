{
  "nbformat": 4,
  "nbformat_minor": 0,
  "metadata": {
    "colab": {
      "name": "LoanApplicationApproval.ipynb",
      "provenance": [],
      "collapsed_sections": [],
      "include_colab_link": true
    },
    "kernelspec": {
      "name": "python3",
      "display_name": "Python 3"
    }
  },
  "cells": [
    {
      "cell_type": "markdown",
      "metadata": {
        "id": "view-in-github",
        "colab_type": "text"
      },
      "source": [
        "<a href=\"https://colab.research.google.com/github/RichBirch1/RichBirch1/blob/main/LoanApplicationApproval.ipynb\" target=\"_parent\"><img src=\"https://colab.research.google.com/assets/colab-badge.svg\" alt=\"Open In Colab\"/></a>"
      ]
    },
    {
      "cell_type": "markdown",
      "metadata": {
        "id": "pVhOMz00Fa5v"
      },
      "source": [
        "**Notebook Details**\n",
        "\n",
        "This Jupyter Notebook was developed in Google Colab December 2020.\n",
        "Its purpose is to automate loan application approvals process.\n",
        "\n",
        "It does this by merging historical data from the ERP database with the Excel files from the loan department to create cleansed a master data set on which a supervised machine learning model can be based.  The model can then be used for future loan application details to predict approval whether they should be rejected or approved."
      ]
    },
    {
      "cell_type": "markdown",
      "metadata": {
        "id": "TB2JnylCmZkp"
      },
      "source": [
        "# 1 - Load the libraries to be used in the notebook \n",
        "1.   Tabula will be used to read the data from PDF\n",
        "2.   Pandas will be used read the data from Excel and write to CSVs, it will also be use for creating data frames and manipluating the data\n",
        "3.   Matplotlib will be used for standard visualisations\n",
        "4.   Seaborn will be used for interactive visualisations"
      ]
    },
    {
      "cell_type": "code",
      "metadata": {
        "id": "q1QfM3MOjLxp",
        "colab": {
          "base_uri": "https://localhost:8080/"
        },
        "outputId": "34c9c92a-a095-412e-c83f-224c475b2b61"
      },
      "source": [
        "# First, install the tabula-py module which can read in data from tables in PDF files (this is not a standard module in colab currently)\n",
        "\n",
        "!pip install -q tabula-py"
      ],
      "execution_count": null,
      "outputs": [
        {
          "output_type": "stream",
          "text": [
            "\u001b[K     |████████████████████████████████| 11.7MB 5.5MB/s \n",
            "\u001b[?25h"
          ],
          "name": "stdout"
        }
      ]
    },
    {
      "cell_type": "code",
      "metadata": {
        "id": "Dt8ClvPqll2h"
      },
      "source": [
        "# Next import the python libraries that will be used in the notebook\n",
        "# Note: Others are imported later in the workbook, but this covers the main ones\n",
        "\n",
        "# Import the tabula library\n",
        "import tabula\n",
        "# Import the pandas library, abbreviated to pd, to enable use of pandas data frames\n",
        "import pandas as pd\n",
        "# Import the numpy library, abbreviated to np, for arrays and numerical use\n",
        "import numpy as np\n",
        "# Import the matplotlib, abbreviated to plt, and seaborn library for exploratory visual data analysis\n",
        "import matplotlib.pyplot as plt\n",
        "# Set the plots to appear inline in the notebook\n",
        "%matplotlib inline\n",
        "# Import the seaborn library to enable interactive visualisations\n",
        "import seaborn as sns"
      ],
      "execution_count": null,
      "outputs": []
    },
    {
      "cell_type": "markdown",
      "metadata": {
        "id": "cg9NvaSNokLP"
      },
      "source": [
        "# 2 - Load the files in to the environment\n",
        "The files contains values as defined as shown below:\n",
        "\n",
        "*   Gender: 1=Male, 2=Female\n",
        "*   Married: 0=Single, 1=Married\n",
        "*   Dependents: 0, 1, 2, 3+\n",
        "*   Graduate: 0=No, 1=Yes\n",
        "*   Self_employed: 0=No, 1=Yes\n",
        "*   Credit_History: 0=No, 1=Yes\n",
        "*   Property_Area: 1=Urban, 2=Semiurban, 3=Rural\n",
        "*   Loan Status: Y=Approved, N=Rejected"
      ]
    },
    {
      "cell_type": "code",
      "metadata": {
        "id": "5pHYANX1rZFx"
      },
      "source": [
        "#Upload files to Colab\n",
        "# from google.colab import files\n",
        "# uploaded = files.upload()"
      ],
      "execution_count": null,
      "outputs": []
    },
    {
      "cell_type": "code",
      "metadata": {
        "id": "GxGQC4qopUSm"
      },
      "source": [
        "# Read the df into a list of DataFrame\n",
        "df = tabula.read_pdf(\"Loans_Database_Table.pdf\", pages='all')"
      ],
      "execution_count": null,
      "outputs": []
    },
    {
      "cell_type": "code",
      "metadata": {
        "id": "5ZhFjMklGMON"
      },
      "source": [
        "# convert PDF into CSV\n",
        "tabula.convert_into(\"Loans_Database_Table.pdf\", \"Loans_Database_Table.csv\", output_format=\"csv\", pages='all')"
      ],
      "execution_count": null,
      "outputs": []
    },
    {
      "cell_type": "code",
      "metadata": {
        "colab": {
          "base_uri": "https://localhost:8080/"
        },
        "id": "uxt8pLksu5Xt",
        "outputId": "9ca52a22-e7e7-406e-e3a7-e5b68aabeadf"
      },
      "source": [
        "# Load the CSV file data in to a pandas data frame\n",
        "df1 = pd.read_csv('Loans_Database_Table.csv')\n",
        "df2 = pd.read_excel('Zappy+Loan+Data.xlsx')\n",
        "\n",
        "# Check row counts for each table\n",
        "print('Loans_Database_Table:', len(df1), 'rows')\n",
        "print('Zappy+Loan+Data.xlsx:', len(df2), 'rows')\n",
        "print('Total:', len(df1) + len(df2), 'rows')"
      ],
      "execution_count": null,
      "outputs": [
        {
          "output_type": "stream",
          "text": [
            "Loans_Database_Table: 398 rows\n",
            "Zappy+Loan+Data.xlsx: 247 rows\n",
            "Total: 645 rows\n"
          ],
          "name": "stdout"
        }
      ]
    },
    {
      "cell_type": "code",
      "metadata": {
        "colab": {
          "base_uri": "https://localhost:8080/"
        },
        "id": "dsYtsia2_a5w",
        "outputId": "24d95e24-b838-42dd-d8a2-6428a3315da8"
      },
      "source": [
        "# Review the shape of the data - this will show (rows, columns) and the number of columns should be the same for both data sets\n",
        "print('The CSV file contains the following rows and columns:', df1.shape)\n",
        "print('The ERP file contains the following rows and columns:', df2.shape)"
      ],
      "execution_count": null,
      "outputs": [
        {
          "output_type": "stream",
          "text": [
            "The CSV file contains the following rows and columns: (398, 13)\n",
            "The ERP file contains the following rows and columns: (247, 13)\n"
          ],
          "name": "stdout"
        }
      ]
    },
    {
      "cell_type": "code",
      "metadata": {
        "id": "BX4W-KDr4BL1",
        "colab": {
          "base_uri": "https://localhost:8080/"
        },
        "outputId": "63ec032f-99d4-47d5-821b-f9d15efb1387"
      },
      "source": [
        "# Check the column names, completeness of the data within each column (null check) and data types.\n",
        "# Colmuns with text will show as Dtype 'object'\n",
        "print(df1.info())\n",
        "print(df2.info())"
      ],
      "execution_count": null,
      "outputs": [
        {
          "output_type": "stream",
          "text": [
            "<class 'pandas.core.frame.DataFrame'>\n",
            "RangeIndex: 398 entries, 0 to 397\n",
            "Data columns (total 13 columns):\n",
            " #   Column             Non-Null Count  Dtype  \n",
            "---  ------             --------------  -----  \n",
            " 0   Loan_ID            398 non-null    int64  \n",
            " 1   Gender             398 non-null    int64  \n",
            " 2   Married            398 non-null    int64  \n",
            " 3   Dependents         398 non-null    int64  \n",
            " 4   Graduate           398 non-null    int64  \n",
            " 5   Self_Employed      398 non-null    int64  \n",
            " 6   ApplicantIncome    398 non-null    int64  \n",
            " 7   CoapplicantIncome  398 non-null    float64\n",
            " 8   LoanAmount         398 non-null    int64  \n",
            " 9   Loan_Amount_Term   398 non-null    int64  \n",
            " 10  Credit_History     398 non-null    int64  \n",
            " 11  Property_Area      398 non-null    int64  \n",
            " 12  Loan_Status        398 non-null    object \n",
            "dtypes: float64(1), int64(11), object(1)\n",
            "memory usage: 40.5+ KB\n",
            "None\n",
            "<class 'pandas.core.frame.DataFrame'>\n",
            "RangeIndex: 247 entries, 0 to 246\n",
            "Data columns (total 13 columns):\n",
            " #   Column             Non-Null Count  Dtype  \n",
            "---  ------             --------------  -----  \n",
            " 0   Loan_ID            247 non-null    int64  \n",
            " 1   Gender             247 non-null    int64  \n",
            " 2   Married            247 non-null    int64  \n",
            " 3   Dependents         247 non-null    int64  \n",
            " 4   Graduate           247 non-null    int64  \n",
            " 5   Self_Employed      247 non-null    int64  \n",
            " 6   ApplicantIncome    247 non-null    int64  \n",
            " 7   CoapplicantIncome  247 non-null    float64\n",
            " 8   LoanAmount         247 non-null    int64  \n",
            " 9   Loan_Amount_Term   247 non-null    int64  \n",
            " 10  Credit_History     247 non-null    int64  \n",
            " 11  Property_Area      247 non-null    int64  \n",
            " 12  Loan_Status        247 non-null    object \n",
            "dtypes: float64(1), int64(11), object(1)\n",
            "memory usage: 25.2+ KB\n",
            "None\n"
          ],
          "name": "stdout"
        }
      ]
    },
    {
      "cell_type": "markdown",
      "metadata": {
        "id": "71yEdle61nVh"
      },
      "source": [
        "# 3 - Prepare and Cleanse the data"
      ]
    },
    {
      "cell_type": "markdown",
      "metadata": {
        "id": "pVCTQ80vpFSi"
      },
      "source": [
        "## 3.1  Bring the data sets together in to a single data frame"
      ]
    },
    {
      "cell_type": "markdown",
      "metadata": {
        "id": "Denq4NNj6HJu"
      },
      "source": [
        "*   Bring the data sets together in to one table structure for analysis\n",
        "*   Handle any duplicate or missing values\n",
        "*   Export the cleansed data set for future reference\n",
        "*   Remove any data not required to conduct analysis\n",
        "*   Handle any potential outliers in the data set"
      ]
    },
    {
      "cell_type": "code",
      "metadata": {
        "colab": {
          "base_uri": "https://localhost:8080/"
        },
        "id": "n9nHTqwQ4WKU",
        "outputId": "cb4f457a-f5dc-47f1-a12f-0f96b6dc082e"
      },
      "source": [
        "# We can combine data frames that have the same column names using pandas.concat\n",
        "df_merged = pd.concat([df1, df2])\n",
        "\n",
        "# Check the length of the concatenated data frame is the same size as both individual files from above\n",
        "print('Data has been successfully merged into 1 data frame containing', len(df_merged), 'records')"
      ],
      "execution_count": null,
      "outputs": [
        {
          "output_type": "stream",
          "text": [
            "Data has been successfully merged into 1 data frame containing 645 records\n"
          ],
          "name": "stdout"
        }
      ]
    },
    {
      "cell_type": "markdown",
      "metadata": {
        "id": "TY0ZI4On-969"
      },
      "source": [
        "## 3.2.1  Find and handle missing values or duplicated rows based on all columns matching exactly."
      ]
    },
    {
      "cell_type": "code",
      "metadata": {
        "colab": {
          "base_uri": "https://localhost:8080/"
        },
        "id": "72mt1LvbEwrD",
        "outputId": "e1f97693-cb48-412a-cf57-70befd54a4fc"
      },
      "source": [
        "# Check for any Null (no value) or NaN ('not a number') values in the data\n",
        "# If results are all False, then no null values exist in that column\n",
        "df_merged.isna().any()"
      ],
      "execution_count": null,
      "outputs": [
        {
          "output_type": "execute_result",
          "data": {
            "text/plain": [
              "Loan_ID              False\n",
              "Gender               False\n",
              "Married              False\n",
              "Dependents           False\n",
              "Graduate             False\n",
              "Self_Employed        False\n",
              "ApplicantIncome      False\n",
              "CoapplicantIncome    False\n",
              "LoanAmount           False\n",
              "Loan_Amount_Term     False\n",
              "Credit_History       False\n",
              "Property_Area        False\n",
              "Loan_Status          False\n",
              "dtype: bool"
            ]
          },
          "metadata": {
            "tags": []
          },
          "execution_count": 10
        }
      ]
    },
    {
      "cell_type": "code",
      "metadata": {
        "colab": {
          "base_uri": "https://localhost:8080/"
        },
        "id": "bv4H-L5h-p6t",
        "outputId": "83797494-040c-43c1-abac-54ec21487272"
      },
      "source": [
        "# Find any duplicated rows (excluding their first occurrence) based on dta in each column matching exactly to the first record\n",
        "duplicateRowsDF = df_merged[df_merged.duplicated()]\n",
        "duplicateRowsDFcnt = len(duplicateRowsDF)\n",
        "print('The', duplicateRowsDFcnt, 'duplicate rows except first occurrence based on all columns are:')\n",
        "\n",
        "# Dsitplay the records\n",
        "print(duplicateRowsDF)"
      ],
      "execution_count": null,
      "outputs": [
        {
          "output_type": "stream",
          "text": [
            "The 3 duplicate rows except first occurrence based on all columns are:\n",
            "    Loan_ID  Gender  Married  ...  Credit_History  Property_Area  Loan_Status\n",
            "22     1925       2        0  ...               1              2            N\n",
            "29     1945       2        0  ...               0              1            N\n",
            "34     1955       2        0  ...               1              3            N\n",
            "\n",
            "[3 rows x 13 columns]\n"
          ],
          "name": "stdout"
        }
      ]
    },
    {
      "cell_type": "code",
      "metadata": {
        "colab": {
          "base_uri": "https://localhost:8080/"
        },
        "id": "CG4WN1T72NBA",
        "outputId": "f475ee9e-312f-41ec-f9c1-919800f34620"
      },
      "source": [
        "# Remove the duplicate rows from the data set to aviod any bias this might create in the predictive model\n",
        "df_merged.drop_duplicates(subset=None, keep='first', inplace=True)\n",
        "\n",
        "#Check the record count is reduced by the number of duplicates found\n",
        "print('With exact duplicates removed, the data set now contains', len(df_merged), 'records')"
      ],
      "execution_count": null,
      "outputs": [
        {
          "output_type": "stream",
          "text": [
            "With exact duplicates removed, the data set now contains 642 records\n"
          ],
          "name": "stdout"
        }
      ]
    },
    {
      "cell_type": "markdown",
      "metadata": {
        "id": "HM0QZnmk3uh4"
      },
      "source": [
        "Before continuing, conversion of the Loan Status column to a numerical data type will help for consistency\n",
        "\n",
        "This can be achieved easily using SciKitLearn's LabelEncoder function"
      ]
    },
    {
      "cell_type": "code",
      "metadata": {
        "id": "3znYrD652uTU"
      },
      "source": [
        "# Import the label encoder and set it as le \n",
        "from sklearn.preprocessing import LabelEncoder\n",
        "le = LabelEncoder()"
      ],
      "execution_count": null,
      "outputs": []
    },
    {
      "cell_type": "code",
      "metadata": {
        "id": "kqa0Yihn2uTX"
      },
      "source": [
        "#Transform the Loan_Status column from Y/N to 1/0\n",
        "df_merged['Loan_Status'] = le.fit_transform(df_merged['Loan_Status'])"
      ],
      "execution_count": null,
      "outputs": []
    },
    {
      "cell_type": "code",
      "metadata": {
        "colab": {
          "base_uri": "https://localhost:8080/",
          "height": 160
        },
        "id": "mNmkFoVH2uTY",
        "outputId": "cf0252ef-6133-4ec3-ba48-fc3cdbd7b3bb"
      },
      "source": [
        "# Check the Loan_Status values have changed to 1 and 0\n",
        "df_merged.head(3)"
      ],
      "execution_count": null,
      "outputs": [
        {
          "output_type": "execute_result",
          "data": {
            "text/html": [
              "<div>\n",
              "<style scoped>\n",
              "    .dataframe tbody tr th:only-of-type {\n",
              "        vertical-align: middle;\n",
              "    }\n",
              "\n",
              "    .dataframe tbody tr th {\n",
              "        vertical-align: top;\n",
              "    }\n",
              "\n",
              "    .dataframe thead th {\n",
              "        text-align: right;\n",
              "    }\n",
              "</style>\n",
              "<table border=\"1\" class=\"dataframe\">\n",
              "  <thead>\n",
              "    <tr style=\"text-align: right;\">\n",
              "      <th></th>\n",
              "      <th>Loan_ID</th>\n",
              "      <th>Gender</th>\n",
              "      <th>Married</th>\n",
              "      <th>Dependents</th>\n",
              "      <th>Graduate</th>\n",
              "      <th>Self_Employed</th>\n",
              "      <th>ApplicantIncome</th>\n",
              "      <th>CoapplicantIncome</th>\n",
              "      <th>LoanAmount</th>\n",
              "      <th>Loan_Amount_Term</th>\n",
              "      <th>Credit_History</th>\n",
              "      <th>Property_Area</th>\n",
              "      <th>Loan_Status</th>\n",
              "    </tr>\n",
              "  </thead>\n",
              "  <tbody>\n",
              "    <tr>\n",
              "      <th>0</th>\n",
              "      <td>1002</td>\n",
              "      <td>1</td>\n",
              "      <td>0</td>\n",
              "      <td>0</td>\n",
              "      <td>1</td>\n",
              "      <td>0</td>\n",
              "      <td>5849</td>\n",
              "      <td>0.0</td>\n",
              "      <td>128</td>\n",
              "      <td>360</td>\n",
              "      <td>1</td>\n",
              "      <td>1</td>\n",
              "      <td>1</td>\n",
              "    </tr>\n",
              "    <tr>\n",
              "      <th>1</th>\n",
              "      <td>1003</td>\n",
              "      <td>1</td>\n",
              "      <td>1</td>\n",
              "      <td>1</td>\n",
              "      <td>1</td>\n",
              "      <td>0</td>\n",
              "      <td>4583</td>\n",
              "      <td>1508.0</td>\n",
              "      <td>128</td>\n",
              "      <td>360</td>\n",
              "      <td>1</td>\n",
              "      <td>3</td>\n",
              "      <td>0</td>\n",
              "    </tr>\n",
              "    <tr>\n",
              "      <th>2</th>\n",
              "      <td>1005</td>\n",
              "      <td>1</td>\n",
              "      <td>1</td>\n",
              "      <td>0</td>\n",
              "      <td>1</td>\n",
              "      <td>1</td>\n",
              "      <td>3000</td>\n",
              "      <td>0.0</td>\n",
              "      <td>66</td>\n",
              "      <td>360</td>\n",
              "      <td>1</td>\n",
              "      <td>1</td>\n",
              "      <td>1</td>\n",
              "    </tr>\n",
              "  </tbody>\n",
              "</table>\n",
              "</div>"
            ],
            "text/plain": [
              "   Loan_ID  Gender  Married  ...  Credit_History  Property_Area  Loan_Status\n",
              "0     1002       1        0  ...               1              1            1\n",
              "1     1003       1        1  ...               1              3            0\n",
              "2     1005       1        1  ...               1              1            1\n",
              "\n",
              "[3 rows x 13 columns]"
            ]
          },
          "metadata": {
            "tags": []
          },
          "execution_count": 15
        }
      ]
    },
    {
      "cell_type": "markdown",
      "metadata": {
        "id": "xEiEPfmT_Lci"
      },
      "source": [
        "## 3.2.2  Find and handle any instances where the Loan_ID is repeated.  Loan_ID (being the unique reference to the loan) should only appear once in the data.  Mutliple record suggest human error.\n",
        "* Check the highest Loan_ID value in the Database loans data set\n",
        "* Check the lowest Loan_ID value in the Excel loans data set\n",
        " * Any Excel Loan_ID values lower than the highest values in the database data suggest there may be overlap and potential for duplication\n",
        "* Group the merged data by Loan_IDs and do a count the number of records to see if any have more than one record\n"
      ]
    },
    {
      "cell_type": "code",
      "metadata": {
        "colab": {
          "base_uri": "https://localhost:8080/"
        },
        "id": "F3-11Xt0GvWu",
        "outputId": "3f7f691e-e128-43e4-d782-297105ae8dcc"
      },
      "source": [
        "# Get the max database Loan_ID and min Excel file Loan_ID to see if any potential overlap exists\n",
        "print(df1['Loan_ID'].max())\n",
        "print(df2['Loan_ID'].min())"
      ],
      "execution_count": null,
      "outputs": [
        {
          "output_type": "stream",
          "text": [
            "2281\n",
            "1900\n"
          ],
          "name": "stdout"
        }
      ]
    },
    {
      "cell_type": "code",
      "metadata": {
        "id": "6DNeZnSUGj1g",
        "colab": {
          "base_uri": "https://localhost:8080/",
          "height": 434
        },
        "outputId": "70f8b3e2-07ea-4586-bc86-7fff69730df3"
      },
      "source": [
        "# Sort the data from the Database on the Loan_ID column and check the data loaded as expected\n",
        "df1.sort_values(['Loan_ID'], inplace=True)\n",
        "df1"
      ],
      "execution_count": null,
      "outputs": [
        {
          "output_type": "execute_result",
          "data": {
            "text/html": [
              "<div>\n",
              "<style scoped>\n",
              "    .dataframe tbody tr th:only-of-type {\n",
              "        vertical-align: middle;\n",
              "    }\n",
              "\n",
              "    .dataframe tbody tr th {\n",
              "        vertical-align: top;\n",
              "    }\n",
              "\n",
              "    .dataframe thead th {\n",
              "        text-align: right;\n",
              "    }\n",
              "</style>\n",
              "<table border=\"1\" class=\"dataframe\">\n",
              "  <thead>\n",
              "    <tr style=\"text-align: right;\">\n",
              "      <th></th>\n",
              "      <th>Loan_ID</th>\n",
              "      <th>Gender</th>\n",
              "      <th>Married</th>\n",
              "      <th>Dependents</th>\n",
              "      <th>Graduate</th>\n",
              "      <th>Self_Employed</th>\n",
              "      <th>ApplicantIncome</th>\n",
              "      <th>CoapplicantIncome</th>\n",
              "      <th>LoanAmount</th>\n",
              "      <th>Loan_Amount_Term</th>\n",
              "      <th>Credit_History</th>\n",
              "      <th>Property_Area</th>\n",
              "      <th>Loan_Status</th>\n",
              "    </tr>\n",
              "  </thead>\n",
              "  <tbody>\n",
              "    <tr>\n",
              "      <th>0</th>\n",
              "      <td>1002</td>\n",
              "      <td>1</td>\n",
              "      <td>0</td>\n",
              "      <td>0</td>\n",
              "      <td>1</td>\n",
              "      <td>0</td>\n",
              "      <td>5849</td>\n",
              "      <td>0.0</td>\n",
              "      <td>128</td>\n",
              "      <td>360</td>\n",
              "      <td>1</td>\n",
              "      <td>1</td>\n",
              "      <td>Y</td>\n",
              "    </tr>\n",
              "    <tr>\n",
              "      <th>1</th>\n",
              "      <td>1003</td>\n",
              "      <td>1</td>\n",
              "      <td>1</td>\n",
              "      <td>1</td>\n",
              "      <td>1</td>\n",
              "      <td>0</td>\n",
              "      <td>4583</td>\n",
              "      <td>1508.0</td>\n",
              "      <td>128</td>\n",
              "      <td>360</td>\n",
              "      <td>1</td>\n",
              "      <td>3</td>\n",
              "      <td>N</td>\n",
              "    </tr>\n",
              "    <tr>\n",
              "      <th>2</th>\n",
              "      <td>1005</td>\n",
              "      <td>1</td>\n",
              "      <td>1</td>\n",
              "      <td>0</td>\n",
              "      <td>1</td>\n",
              "      <td>1</td>\n",
              "      <td>3000</td>\n",
              "      <td>0.0</td>\n",
              "      <td>66</td>\n",
              "      <td>360</td>\n",
              "      <td>1</td>\n",
              "      <td>1</td>\n",
              "      <td>Y</td>\n",
              "    </tr>\n",
              "    <tr>\n",
              "      <th>3</th>\n",
              "      <td>1006</td>\n",
              "      <td>1</td>\n",
              "      <td>1</td>\n",
              "      <td>0</td>\n",
              "      <td>0</td>\n",
              "      <td>0</td>\n",
              "      <td>2583</td>\n",
              "      <td>2358.0</td>\n",
              "      <td>120</td>\n",
              "      <td>360</td>\n",
              "      <td>1</td>\n",
              "      <td>1</td>\n",
              "      <td>Y</td>\n",
              "    </tr>\n",
              "    <tr>\n",
              "      <th>4</th>\n",
              "      <td>1008</td>\n",
              "      <td>1</td>\n",
              "      <td>0</td>\n",
              "      <td>0</td>\n",
              "      <td>1</td>\n",
              "      <td>0</td>\n",
              "      <td>6000</td>\n",
              "      <td>0.0</td>\n",
              "      <td>141</td>\n",
              "      <td>360</td>\n",
              "      <td>1</td>\n",
              "      <td>1</td>\n",
              "      <td>Y</td>\n",
              "    </tr>\n",
              "    <tr>\n",
              "      <th>...</th>\n",
              "      <td>...</td>\n",
              "      <td>...</td>\n",
              "      <td>...</td>\n",
              "      <td>...</td>\n",
              "      <td>...</td>\n",
              "      <td>...</td>\n",
              "      <td>...</td>\n",
              "      <td>...</td>\n",
              "      <td>...</td>\n",
              "      <td>...</td>\n",
              "      <td>...</td>\n",
              "      <td>...</td>\n",
              "      <td>...</td>\n",
              "    </tr>\n",
              "    <tr>\n",
              "      <th>393</th>\n",
              "      <td>2265</td>\n",
              "      <td>1</td>\n",
              "      <td>1</td>\n",
              "      <td>2</td>\n",
              "      <td>0</td>\n",
              "      <td>0</td>\n",
              "      <td>1993</td>\n",
              "      <td>1625.0</td>\n",
              "      <td>113</td>\n",
              "      <td>180</td>\n",
              "      <td>1</td>\n",
              "      <td>2</td>\n",
              "      <td>Y</td>\n",
              "    </tr>\n",
              "    <tr>\n",
              "      <th>394</th>\n",
              "      <td>2266</td>\n",
              "      <td>1</td>\n",
              "      <td>1</td>\n",
              "      <td>2</td>\n",
              "      <td>1</td>\n",
              "      <td>0</td>\n",
              "      <td>3100</td>\n",
              "      <td>1400.0</td>\n",
              "      <td>113</td>\n",
              "      <td>360</td>\n",
              "      <td>1</td>\n",
              "      <td>1</td>\n",
              "      <td>Y</td>\n",
              "    </tr>\n",
              "    <tr>\n",
              "      <th>395</th>\n",
              "      <td>2272</td>\n",
              "      <td>1</td>\n",
              "      <td>1</td>\n",
              "      <td>2</td>\n",
              "      <td>1</td>\n",
              "      <td>0</td>\n",
              "      <td>3276</td>\n",
              "      <td>484.0</td>\n",
              "      <td>135</td>\n",
              "      <td>360</td>\n",
              "      <td>0</td>\n",
              "      <td>2</td>\n",
              "      <td>Y</td>\n",
              "    </tr>\n",
              "    <tr>\n",
              "      <th>396</th>\n",
              "      <td>2277</td>\n",
              "      <td>2</td>\n",
              "      <td>0</td>\n",
              "      <td>0</td>\n",
              "      <td>1</td>\n",
              "      <td>0</td>\n",
              "      <td>3180</td>\n",
              "      <td>0.0</td>\n",
              "      <td>71</td>\n",
              "      <td>360</td>\n",
              "      <td>0</td>\n",
              "      <td>1</td>\n",
              "      <td>N</td>\n",
              "    </tr>\n",
              "    <tr>\n",
              "      <th>397</th>\n",
              "      <td>2281</td>\n",
              "      <td>1</td>\n",
              "      <td>1</td>\n",
              "      <td>0</td>\n",
              "      <td>1</td>\n",
              "      <td>0</td>\n",
              "      <td>3033</td>\n",
              "      <td>1459.0</td>\n",
              "      <td>95</td>\n",
              "      <td>360</td>\n",
              "      <td>1</td>\n",
              "      <td>1</td>\n",
              "      <td>Y</td>\n",
              "    </tr>\n",
              "  </tbody>\n",
              "</table>\n",
              "<p>398 rows × 13 columns</p>\n",
              "</div>"
            ],
            "text/plain": [
              "     Loan_ID  Gender  Married  ...  Credit_History  Property_Area  Loan_Status\n",
              "0       1002       1        0  ...               1              1            Y\n",
              "1       1003       1        1  ...               1              3            N\n",
              "2       1005       1        1  ...               1              1            Y\n",
              "3       1006       1        1  ...               1              1            Y\n",
              "4       1008       1        0  ...               1              1            Y\n",
              "..       ...     ...      ...  ...             ...            ...          ...\n",
              "393     2265       1        1  ...               1              2            Y\n",
              "394     2266       1        1  ...               1              1            Y\n",
              "395     2272       1        1  ...               0              2            Y\n",
              "396     2277       2        0  ...               0              1            N\n",
              "397     2281       1        1  ...               1              1            Y\n",
              "\n",
              "[398 rows x 13 columns]"
            ]
          },
          "metadata": {
            "tags": []
          },
          "execution_count": 17
        }
      ]
    },
    {
      "cell_type": "code",
      "metadata": {
        "id": "x3ujrDbqr68N",
        "colab": {
          "base_uri": "https://localhost:8080/",
          "height": 434
        },
        "outputId": "692a8d05-3373-4fca-a671-ad3a1dc206d1"
      },
      "source": [
        "# Sort the data from the Excel file on the Loan_ID column and check the data loaded as expected\n",
        "df2.sort_values(['Loan_ID'], inplace=True)\n",
        "df2"
      ],
      "execution_count": null,
      "outputs": [
        {
          "output_type": "execute_result",
          "data": {
            "text/html": [
              "<div>\n",
              "<style scoped>\n",
              "    .dataframe tbody tr th:only-of-type {\n",
              "        vertical-align: middle;\n",
              "    }\n",
              "\n",
              "    .dataframe tbody tr th {\n",
              "        vertical-align: top;\n",
              "    }\n",
              "\n",
              "    .dataframe thead th {\n",
              "        text-align: right;\n",
              "    }\n",
              "</style>\n",
              "<table border=\"1\" class=\"dataframe\">\n",
              "  <thead>\n",
              "    <tr style=\"text-align: right;\">\n",
              "      <th></th>\n",
              "      <th>Loan_ID</th>\n",
              "      <th>Gender</th>\n",
              "      <th>Married</th>\n",
              "      <th>Dependents</th>\n",
              "      <th>Graduate</th>\n",
              "      <th>Self_Employed</th>\n",
              "      <th>ApplicantIncome</th>\n",
              "      <th>CoapplicantIncome</th>\n",
              "      <th>LoanAmount</th>\n",
              "      <th>Loan_Amount_Term</th>\n",
              "      <th>Credit_History</th>\n",
              "      <th>Property_Area</th>\n",
              "      <th>Loan_Status</th>\n",
              "    </tr>\n",
              "  </thead>\n",
              "  <tbody>\n",
              "    <tr>\n",
              "      <th>11</th>\n",
              "      <td>1900</td>\n",
              "      <td>1</td>\n",
              "      <td>1</td>\n",
              "      <td>1</td>\n",
              "      <td>1</td>\n",
              "      <td>0</td>\n",
              "      <td>2750</td>\n",
              "      <td>1842.0</td>\n",
              "      <td>115</td>\n",
              "      <td>333</td>\n",
              "      <td>1</td>\n",
              "      <td>2</td>\n",
              "      <td>Y</td>\n",
              "    </tr>\n",
              "    <tr>\n",
              "      <th>12</th>\n",
              "      <td>1903</td>\n",
              "      <td>1</td>\n",
              "      <td>1</td>\n",
              "      <td>0</td>\n",
              "      <td>1</td>\n",
              "      <td>0</td>\n",
              "      <td>3993</td>\n",
              "      <td>3274.0</td>\n",
              "      <td>207</td>\n",
              "      <td>333</td>\n",
              "      <td>1</td>\n",
              "      <td>2</td>\n",
              "      <td>Y</td>\n",
              "    </tr>\n",
              "    <tr>\n",
              "      <th>13</th>\n",
              "      <td>1904</td>\n",
              "      <td>1</td>\n",
              "      <td>1</td>\n",
              "      <td>0</td>\n",
              "      <td>1</td>\n",
              "      <td>0</td>\n",
              "      <td>3103</td>\n",
              "      <td>1300.0</td>\n",
              "      <td>80</td>\n",
              "      <td>333</td>\n",
              "      <td>1</td>\n",
              "      <td>1</td>\n",
              "      <td>Y</td>\n",
              "    </tr>\n",
              "    <tr>\n",
              "      <th>14</th>\n",
              "      <td>1907</td>\n",
              "      <td>1</td>\n",
              "      <td>1</td>\n",
              "      <td>0</td>\n",
              "      <td>1</td>\n",
              "      <td>0</td>\n",
              "      <td>14583</td>\n",
              "      <td>0.0</td>\n",
              "      <td>436</td>\n",
              "      <td>333</td>\n",
              "      <td>1</td>\n",
              "      <td>2</td>\n",
              "      <td>Y</td>\n",
              "    </tr>\n",
              "    <tr>\n",
              "      <th>15</th>\n",
              "      <td>1908</td>\n",
              "      <td>2</td>\n",
              "      <td>1</td>\n",
              "      <td>0</td>\n",
              "      <td>0</td>\n",
              "      <td>0</td>\n",
              "      <td>4100</td>\n",
              "      <td>0.0</td>\n",
              "      <td>124</td>\n",
              "      <td>333</td>\n",
              "      <td>0</td>\n",
              "      <td>3</td>\n",
              "      <td>Y</td>\n",
              "    </tr>\n",
              "    <tr>\n",
              "      <th>...</th>\n",
              "      <td>...</td>\n",
              "      <td>...</td>\n",
              "      <td>...</td>\n",
              "      <td>...</td>\n",
              "      <td>...</td>\n",
              "      <td>...</td>\n",
              "      <td>...</td>\n",
              "      <td>...</td>\n",
              "      <td>...</td>\n",
              "      <td>...</td>\n",
              "      <td>...</td>\n",
              "      <td>...</td>\n",
              "      <td>...</td>\n",
              "    </tr>\n",
              "    <tr>\n",
              "      <th>242</th>\n",
              "      <td>2978</td>\n",
              "      <td>2</td>\n",
              "      <td>0</td>\n",
              "      <td>0</td>\n",
              "      <td>1</td>\n",
              "      <td>0</td>\n",
              "      <td>2900</td>\n",
              "      <td>0.0</td>\n",
              "      <td>71</td>\n",
              "      <td>333</td>\n",
              "      <td>1</td>\n",
              "      <td>3</td>\n",
              "      <td>Y</td>\n",
              "    </tr>\n",
              "    <tr>\n",
              "      <th>243</th>\n",
              "      <td>2979</td>\n",
              "      <td>1</td>\n",
              "      <td>1</td>\n",
              "      <td>3</td>\n",
              "      <td>1</td>\n",
              "      <td>0</td>\n",
              "      <td>4106</td>\n",
              "      <td>0.0</td>\n",
              "      <td>40</td>\n",
              "      <td>180</td>\n",
              "      <td>1</td>\n",
              "      <td>3</td>\n",
              "      <td>Y</td>\n",
              "    </tr>\n",
              "    <tr>\n",
              "      <th>244</th>\n",
              "      <td>2983</td>\n",
              "      <td>1</td>\n",
              "      <td>1</td>\n",
              "      <td>1</td>\n",
              "      <td>1</td>\n",
              "      <td>0</td>\n",
              "      <td>8072</td>\n",
              "      <td>240.0</td>\n",
              "      <td>253</td>\n",
              "      <td>333</td>\n",
              "      <td>1</td>\n",
              "      <td>1</td>\n",
              "      <td>Y</td>\n",
              "    </tr>\n",
              "    <tr>\n",
              "      <th>245</th>\n",
              "      <td>2984</td>\n",
              "      <td>1</td>\n",
              "      <td>1</td>\n",
              "      <td>2</td>\n",
              "      <td>1</td>\n",
              "      <td>0</td>\n",
              "      <td>7583</td>\n",
              "      <td>0.0</td>\n",
              "      <td>187</td>\n",
              "      <td>333</td>\n",
              "      <td>1</td>\n",
              "      <td>1</td>\n",
              "      <td>Y</td>\n",
              "    </tr>\n",
              "    <tr>\n",
              "      <th>246</th>\n",
              "      <td>2990</td>\n",
              "      <td>2</td>\n",
              "      <td>0</td>\n",
              "      <td>0</td>\n",
              "      <td>1</td>\n",
              "      <td>1</td>\n",
              "      <td>4583</td>\n",
              "      <td>0.0</td>\n",
              "      <td>133</td>\n",
              "      <td>333</td>\n",
              "      <td>0</td>\n",
              "      <td>2</td>\n",
              "      <td>N</td>\n",
              "    </tr>\n",
              "  </tbody>\n",
              "</table>\n",
              "<p>247 rows × 13 columns</p>\n",
              "</div>"
            ],
            "text/plain": [
              "     Loan_ID  Gender  Married  ...  Credit_History  Property_Area  Loan_Status\n",
              "11      1900       1        1  ...               1              2            Y\n",
              "12      1903       1        1  ...               1              2            Y\n",
              "13      1904       1        1  ...               1              1            Y\n",
              "14      1907       1        1  ...               1              2            Y\n",
              "15      1908       2        1  ...               0              3            Y\n",
              "..       ...     ...      ...  ...             ...            ...          ...\n",
              "242     2978       2        0  ...               1              3            Y\n",
              "243     2979       1        1  ...               1              3            Y\n",
              "244     2983       1        1  ...               1              1            Y\n",
              "245     2984       1        1  ...               1              1            Y\n",
              "246     2990       2        0  ...               0              2            N\n",
              "\n",
              "[247 rows x 13 columns]"
            ]
          },
          "metadata": {
            "tags": []
          },
          "execution_count": 18
        }
      ]
    },
    {
      "cell_type": "markdown",
      "metadata": {
        "id": "MxGOnWUEplj8"
      },
      "source": [
        "It appears that the Excel file's Loan_ID values are lower than those from the database (PDF) file, this could mean that there is duplication within the files which needs to be investigated\n",
        "* Remove the duplicate rows from the data set to aviod any bias this might create in the predictive model"
      ]
    },
    {
      "cell_type": "code",
      "metadata": {
        "colab": {
          "base_uri": "https://localhost:8080/"
        },
        "id": "Ohn8qeC4azWg",
        "outputId": "ba9bcc3a-9c05-4212-9adb-7ab9db0d0c1e"
      },
      "source": [
        "# Check the data for multiple version of the same Loan_ID\n",
        "print('Non duplicated records:', len(df_merged[df_merged.groupby(['Loan_ID'])['Loan_ID'].transform('count') > 1]))\n",
        "print('Duplicated records:', len(df_merged[df_merged.groupby(['Loan_ID'])['Loan_ID'].transform('count') == 1]))"
      ],
      "execution_count": null,
      "outputs": [
        {
          "output_type": "stream",
          "text": [
            "Non duplicated records: 56\n",
            "Duplicated records: 586\n"
          ],
          "name": "stdout"
        }
      ]
    },
    {
      "cell_type": "code",
      "metadata": {
        "id": "1R-LcBaEiJx6",
        "colab": {
          "base_uri": "https://localhost:8080/",
          "height": 434
        },
        "outputId": "6675410d-bffc-4981-f14f-834ea34715ee"
      },
      "source": [
        "# Create a sorted version of the duploans dataframe but with the index added as a column so it can be used for sorting the data\n",
        "df_indexed = df_merged.reset_index().sort_values(['Loan_ID', 'index'], ascending = [True, False])\n",
        "df_indexed"
      ],
      "execution_count": null,
      "outputs": [
        {
          "output_type": "execute_result",
          "data": {
            "text/html": [
              "<div>\n",
              "<style scoped>\n",
              "    .dataframe tbody tr th:only-of-type {\n",
              "        vertical-align: middle;\n",
              "    }\n",
              "\n",
              "    .dataframe tbody tr th {\n",
              "        vertical-align: top;\n",
              "    }\n",
              "\n",
              "    .dataframe thead th {\n",
              "        text-align: right;\n",
              "    }\n",
              "</style>\n",
              "<table border=\"1\" class=\"dataframe\">\n",
              "  <thead>\n",
              "    <tr style=\"text-align: right;\">\n",
              "      <th></th>\n",
              "      <th>index</th>\n",
              "      <th>Loan_ID</th>\n",
              "      <th>Gender</th>\n",
              "      <th>Married</th>\n",
              "      <th>Dependents</th>\n",
              "      <th>Graduate</th>\n",
              "      <th>Self_Employed</th>\n",
              "      <th>ApplicantIncome</th>\n",
              "      <th>CoapplicantIncome</th>\n",
              "      <th>LoanAmount</th>\n",
              "      <th>Loan_Amount_Term</th>\n",
              "      <th>Credit_History</th>\n",
              "      <th>Property_Area</th>\n",
              "      <th>Loan_Status</th>\n",
              "    </tr>\n",
              "  </thead>\n",
              "  <tbody>\n",
              "    <tr>\n",
              "      <th>0</th>\n",
              "      <td>0</td>\n",
              "      <td>1002</td>\n",
              "      <td>1</td>\n",
              "      <td>0</td>\n",
              "      <td>0</td>\n",
              "      <td>1</td>\n",
              "      <td>0</td>\n",
              "      <td>5849</td>\n",
              "      <td>0.0</td>\n",
              "      <td>128</td>\n",
              "      <td>360</td>\n",
              "      <td>1</td>\n",
              "      <td>1</td>\n",
              "      <td>1</td>\n",
              "    </tr>\n",
              "    <tr>\n",
              "      <th>1</th>\n",
              "      <td>1</td>\n",
              "      <td>1003</td>\n",
              "      <td>1</td>\n",
              "      <td>1</td>\n",
              "      <td>1</td>\n",
              "      <td>1</td>\n",
              "      <td>0</td>\n",
              "      <td>4583</td>\n",
              "      <td>1508.0</td>\n",
              "      <td>128</td>\n",
              "      <td>360</td>\n",
              "      <td>1</td>\n",
              "      <td>3</td>\n",
              "      <td>0</td>\n",
              "    </tr>\n",
              "    <tr>\n",
              "      <th>2</th>\n",
              "      <td>2</td>\n",
              "      <td>1005</td>\n",
              "      <td>1</td>\n",
              "      <td>1</td>\n",
              "      <td>0</td>\n",
              "      <td>1</td>\n",
              "      <td>1</td>\n",
              "      <td>3000</td>\n",
              "      <td>0.0</td>\n",
              "      <td>66</td>\n",
              "      <td>360</td>\n",
              "      <td>1</td>\n",
              "      <td>1</td>\n",
              "      <td>1</td>\n",
              "    </tr>\n",
              "    <tr>\n",
              "      <th>3</th>\n",
              "      <td>3</td>\n",
              "      <td>1006</td>\n",
              "      <td>1</td>\n",
              "      <td>1</td>\n",
              "      <td>0</td>\n",
              "      <td>0</td>\n",
              "      <td>0</td>\n",
              "      <td>2583</td>\n",
              "      <td>2358.0</td>\n",
              "      <td>120</td>\n",
              "      <td>360</td>\n",
              "      <td>1</td>\n",
              "      <td>1</td>\n",
              "      <td>1</td>\n",
              "    </tr>\n",
              "    <tr>\n",
              "      <th>4</th>\n",
              "      <td>4</td>\n",
              "      <td>1008</td>\n",
              "      <td>1</td>\n",
              "      <td>0</td>\n",
              "      <td>0</td>\n",
              "      <td>1</td>\n",
              "      <td>0</td>\n",
              "      <td>6000</td>\n",
              "      <td>0.0</td>\n",
              "      <td>141</td>\n",
              "      <td>360</td>\n",
              "      <td>1</td>\n",
              "      <td>1</td>\n",
              "      <td>1</td>\n",
              "    </tr>\n",
              "    <tr>\n",
              "      <th>...</th>\n",
              "      <td>...</td>\n",
              "      <td>...</td>\n",
              "      <td>...</td>\n",
              "      <td>...</td>\n",
              "      <td>...</td>\n",
              "      <td>...</td>\n",
              "      <td>...</td>\n",
              "      <td>...</td>\n",
              "      <td>...</td>\n",
              "      <td>...</td>\n",
              "      <td>...</td>\n",
              "      <td>...</td>\n",
              "      <td>...</td>\n",
              "      <td>...</td>\n",
              "    </tr>\n",
              "    <tr>\n",
              "      <th>637</th>\n",
              "      <td>242</td>\n",
              "      <td>2978</td>\n",
              "      <td>2</td>\n",
              "      <td>0</td>\n",
              "      <td>0</td>\n",
              "      <td>1</td>\n",
              "      <td>0</td>\n",
              "      <td>2900</td>\n",
              "      <td>0.0</td>\n",
              "      <td>71</td>\n",
              "      <td>333</td>\n",
              "      <td>1</td>\n",
              "      <td>3</td>\n",
              "      <td>1</td>\n",
              "    </tr>\n",
              "    <tr>\n",
              "      <th>638</th>\n",
              "      <td>243</td>\n",
              "      <td>2979</td>\n",
              "      <td>1</td>\n",
              "      <td>1</td>\n",
              "      <td>3</td>\n",
              "      <td>1</td>\n",
              "      <td>0</td>\n",
              "      <td>4106</td>\n",
              "      <td>0.0</td>\n",
              "      <td>40</td>\n",
              "      <td>180</td>\n",
              "      <td>1</td>\n",
              "      <td>3</td>\n",
              "      <td>1</td>\n",
              "    </tr>\n",
              "    <tr>\n",
              "      <th>639</th>\n",
              "      <td>244</td>\n",
              "      <td>2983</td>\n",
              "      <td>1</td>\n",
              "      <td>1</td>\n",
              "      <td>1</td>\n",
              "      <td>1</td>\n",
              "      <td>0</td>\n",
              "      <td>8072</td>\n",
              "      <td>240.0</td>\n",
              "      <td>253</td>\n",
              "      <td>333</td>\n",
              "      <td>1</td>\n",
              "      <td>1</td>\n",
              "      <td>1</td>\n",
              "    </tr>\n",
              "    <tr>\n",
              "      <th>640</th>\n",
              "      <td>245</td>\n",
              "      <td>2984</td>\n",
              "      <td>1</td>\n",
              "      <td>1</td>\n",
              "      <td>2</td>\n",
              "      <td>1</td>\n",
              "      <td>0</td>\n",
              "      <td>7583</td>\n",
              "      <td>0.0</td>\n",
              "      <td>187</td>\n",
              "      <td>333</td>\n",
              "      <td>1</td>\n",
              "      <td>1</td>\n",
              "      <td>1</td>\n",
              "    </tr>\n",
              "    <tr>\n",
              "      <th>641</th>\n",
              "      <td>246</td>\n",
              "      <td>2990</td>\n",
              "      <td>2</td>\n",
              "      <td>0</td>\n",
              "      <td>0</td>\n",
              "      <td>1</td>\n",
              "      <td>1</td>\n",
              "      <td>4583</td>\n",
              "      <td>0.0</td>\n",
              "      <td>133</td>\n",
              "      <td>333</td>\n",
              "      <td>0</td>\n",
              "      <td>2</td>\n",
              "      <td>0</td>\n",
              "    </tr>\n",
              "  </tbody>\n",
              "</table>\n",
              "<p>642 rows × 14 columns</p>\n",
              "</div>"
            ],
            "text/plain": [
              "     index  Loan_ID  Gender  ...  Credit_History  Property_Area  Loan_Status\n",
              "0        0     1002       1  ...               1              1            1\n",
              "1        1     1003       1  ...               1              3            0\n",
              "2        2     1005       1  ...               1              1            1\n",
              "3        3     1006       1  ...               1              1            1\n",
              "4        4     1008       1  ...               1              1            1\n",
              "..     ...      ...     ...  ...             ...            ...          ...\n",
              "637    242     2978       2  ...               1              3            1\n",
              "638    243     2979       1  ...               1              3            1\n",
              "639    244     2983       1  ...               1              1            1\n",
              "640    245     2984       1  ...               1              1            1\n",
              "641    246     2990       2  ...               0              2            0\n",
              "\n",
              "[642 rows x 14 columns]"
            ]
          },
          "metadata": {
            "tags": []
          },
          "execution_count": 20
        }
      ]
    },
    {
      "cell_type": "code",
      "metadata": {
        "id": "9Xi5WXk1UBIF"
      },
      "source": [
        "## Split the data where Loan_IDs are unique and those that have no unique values in to separate data sets\n",
        "\n",
        "# Get the unique Loan_ID records\n",
        "nonduploans = df_indexed[df_indexed.groupby(['Loan_ID'])['Loan_ID'].transform('count') == 1]\n",
        "\n",
        "# Get the duplicated Loan_ID records\n",
        "duploans = df_indexed[df_indexed.groupby(['Loan_ID'])['Loan_ID'].transform('count') > 1]"
      ],
      "execution_count": null,
      "outputs": []
    },
    {
      "cell_type": "code",
      "metadata": {
        "id": "eTKkDEWeMeAp",
        "colab": {
          "base_uri": "https://localhost:8080/",
          "height": 129
        },
        "outputId": "b2b35ed3-319b-422e-a34a-93c2f6e286e5"
      },
      "source": [
        "# Check the header data to make sure a new index column has been added\n",
        "duploans.head(2)"
      ],
      "execution_count": null,
      "outputs": [
        {
          "output_type": "execute_result",
          "data": {
            "text/html": [
              "<div>\n",
              "<style scoped>\n",
              "    .dataframe tbody tr th:only-of-type {\n",
              "        vertical-align: middle;\n",
              "    }\n",
              "\n",
              "    .dataframe tbody tr th {\n",
              "        vertical-align: top;\n",
              "    }\n",
              "\n",
              "    .dataframe thead th {\n",
              "        text-align: right;\n",
              "    }\n",
              "</style>\n",
              "<table border=\"1\" class=\"dataframe\">\n",
              "  <thead>\n",
              "    <tr style=\"text-align: right;\">\n",
              "      <th></th>\n",
              "      <th>index</th>\n",
              "      <th>Loan_ID</th>\n",
              "      <th>Gender</th>\n",
              "      <th>Married</th>\n",
              "      <th>Dependents</th>\n",
              "      <th>Graduate</th>\n",
              "      <th>Self_Employed</th>\n",
              "      <th>ApplicantIncome</th>\n",
              "      <th>CoapplicantIncome</th>\n",
              "      <th>LoanAmount</th>\n",
              "      <th>Loan_Amount_Term</th>\n",
              "      <th>Credit_History</th>\n",
              "      <th>Property_Area</th>\n",
              "      <th>Loan_Status</th>\n",
              "    </tr>\n",
              "  </thead>\n",
              "  <tbody>\n",
              "    <tr>\n",
              "      <th>275</th>\n",
              "      <td>275</td>\n",
              "      <td>1900</td>\n",
              "      <td>1</td>\n",
              "      <td>1</td>\n",
              "      <td>1</td>\n",
              "      <td>1</td>\n",
              "      <td>0</td>\n",
              "      <td>2750</td>\n",
              "      <td>1842.0</td>\n",
              "      <td>115</td>\n",
              "      <td>360</td>\n",
              "      <td>1</td>\n",
              "      <td>2</td>\n",
              "      <td>1</td>\n",
              "    </tr>\n",
              "    <tr>\n",
              "      <th>409</th>\n",
              "      <td>11</td>\n",
              "      <td>1900</td>\n",
              "      <td>1</td>\n",
              "      <td>1</td>\n",
              "      <td>1</td>\n",
              "      <td>1</td>\n",
              "      <td>0</td>\n",
              "      <td>2750</td>\n",
              "      <td>1842.0</td>\n",
              "      <td>115</td>\n",
              "      <td>333</td>\n",
              "      <td>1</td>\n",
              "      <td>2</td>\n",
              "      <td>1</td>\n",
              "    </tr>\n",
              "  </tbody>\n",
              "</table>\n",
              "</div>"
            ],
            "text/plain": [
              "     index  Loan_ID  Gender  ...  Credit_History  Property_Area  Loan_Status\n",
              "275    275     1900       1  ...               1              2            1\n",
              "409     11     1900       1  ...               1              2            1\n",
              "\n",
              "[2 rows x 14 columns]"
            ]
          },
          "metadata": {
            "tags": []
          },
          "execution_count": 22
        }
      ]
    },
    {
      "cell_type": "markdown",
      "metadata": {
        "id": "YLpViA9TNEMD"
      },
      "source": [
        "The records in the data appear to be repeated except for the Loan_Amount_Term values.  Check if this is the case for all the duplicated Loan_ID values \n",
        "\n"
      ]
    },
    {
      "cell_type": "code",
      "metadata": {
        "colab": {
          "base_uri": "https://localhost:8080/"
        },
        "id": "_YhPay1wTdKS",
        "outputId": "74afa807-c731-417e-c3ec-0fa2ce1c7c13"
      },
      "source": [
        "# Check the number of occurences for each of the Loan_Amount_Term values\n",
        "duploans['Loan_Amount_Term'].groupby(duploans['Loan_Amount_Term']).count()"
      ],
      "execution_count": null,
      "outputs": [
        {
          "output_type": "execute_result",
          "data": {
            "text/plain": [
              "Loan_Amount_Term\n",
              "180     2\n",
              "333    27\n",
              "360    27\n",
              "Name: Loan_Amount_Term, dtype: int64"
            ]
          },
          "metadata": {
            "tags": []
          },
          "execution_count": 23
        }
      ]
    },
    {
      "cell_type": "code",
      "metadata": {
        "colab": {
          "base_uri": "https://localhost:8080/",
          "height": 129
        },
        "id": "Tt8vg4vpUGQT",
        "outputId": "0ad5e4ba-43e7-4604-e948-1888995cb841"
      },
      "source": [
        "# Check the records that have Loan_Amount_Term of 180\n",
        "duploans[duploans['Loan_Amount_Term'] == 180]"
      ],
      "execution_count": null,
      "outputs": [
        {
          "output_type": "execute_result",
          "data": {
            "text/html": [
              "<div>\n",
              "<style scoped>\n",
              "    .dataframe tbody tr th:only-of-type {\n",
              "        vertical-align: middle;\n",
              "    }\n",
              "\n",
              "    .dataframe tbody tr th {\n",
              "        vertical-align: top;\n",
              "    }\n",
              "\n",
              "    .dataframe thead th {\n",
              "        text-align: right;\n",
              "    }\n",
              "</style>\n",
              "<table border=\"1\" class=\"dataframe\">\n",
              "  <thead>\n",
              "    <tr style=\"text-align: right;\">\n",
              "      <th></th>\n",
              "      <th>index</th>\n",
              "      <th>Loan_ID</th>\n",
              "      <th>Gender</th>\n",
              "      <th>Married</th>\n",
              "      <th>Dependents</th>\n",
              "      <th>Graduate</th>\n",
              "      <th>Self_Employed</th>\n",
              "      <th>ApplicantIncome</th>\n",
              "      <th>CoapplicantIncome</th>\n",
              "      <th>LoanAmount</th>\n",
              "      <th>Loan_Amount_Term</th>\n",
              "      <th>Credit_History</th>\n",
              "      <th>Property_Area</th>\n",
              "      <th>Loan_Status</th>\n",
              "    </tr>\n",
              "  </thead>\n",
              "  <tbody>\n",
              "    <tr>\n",
              "      <th>282</th>\n",
              "      <td>282</td>\n",
              "      <td>1915</td>\n",
              "      <td>1</td>\n",
              "      <td>1</td>\n",
              "      <td>2</td>\n",
              "      <td>1</td>\n",
              "      <td>0</td>\n",
              "      <td>2301</td>\n",
              "      <td>985.800000</td>\n",
              "      <td>78</td>\n",
              "      <td>180</td>\n",
              "      <td>1</td>\n",
              "      <td>1</td>\n",
              "      <td>1</td>\n",
              "    </tr>\n",
              "    <tr>\n",
              "      <th>416</th>\n",
              "      <td>18</td>\n",
              "      <td>1915</td>\n",
              "      <td>1</td>\n",
              "      <td>1</td>\n",
              "      <td>2</td>\n",
              "      <td>1</td>\n",
              "      <td>0</td>\n",
              "      <td>2301</td>\n",
              "      <td>985.799988</td>\n",
              "      <td>78</td>\n",
              "      <td>180</td>\n",
              "      <td>1</td>\n",
              "      <td>1</td>\n",
              "      <td>1</td>\n",
              "    </tr>\n",
              "  </tbody>\n",
              "</table>\n",
              "</div>"
            ],
            "text/plain": [
              "     index  Loan_ID  Gender  ...  Credit_History  Property_Area  Loan_Status\n",
              "282    282     1915       1  ...               1              1            1\n",
              "416     18     1915       1  ...               1              1            1\n",
              "\n",
              "[2 rows x 14 columns]"
            ]
          },
          "metadata": {
            "tags": []
          },
          "execution_count": 24
        }
      ]
    },
    {
      "cell_type": "markdown",
      "metadata": {
        "id": "ZQ5ZxQBPZMXS"
      },
      "source": [
        "The 2 records with LoanAmount value 180 only have a difference in rounding of the CoapplicantIncome.  The erroneous value appeas to be from the Excel data set and so can be dropped in favour of the database data set records."
      ]
    },
    {
      "cell_type": "markdown",
      "metadata": {
        "id": "II_i9rZLqmL2"
      },
      "source": [
        "## 3.3 Remove the duplicated records"
      ]
    },
    {
      "cell_type": "code",
      "metadata": {
        "colab": {
          "base_uri": "https://localhost:8080/"
        },
        "id": "S56c4-nyptWr",
        "outputId": "4110f949-0904-4bfa-fb2d-e2150390c879"
      },
      "source": [
        "# Remove the duplicated values by taking only the records from the Database data set. These have the higher index value.\n",
        "deduploans = duploans.groupby(duploans['Loan_ID']).max(['index'])\n",
        "print('There are',len(duploans), 'records in the data set with the duplicated Loan_ID values')\n",
        "print('There are',len(deduploans), 'records in the de-duplicated data set after taking each Loan_ID record and its maximum index value')"
      ],
      "execution_count": null,
      "outputs": [
        {
          "output_type": "stream",
          "text": [
            "There are 56 records in the data set with the duplicated Loan_ID values\n",
            "There are 28 records in the de-duplicated data set after taking each Loan_ID record and its maximum index value\n"
          ],
          "name": "stdout"
        }
      ]
    },
    {
      "cell_type": "code",
      "metadata": {
        "id": "HCI_n-lStZiQ",
        "colab": {
          "base_uri": "https://localhost:8080/",
          "height": 129
        },
        "outputId": "07a03d16-673e-4ab1-9fc3-2710a2dd6c89"
      },
      "source": [
        "# Check the header for the duploans to make sure the columns are in the order expected\n",
        "duploans.head(2)"
      ],
      "execution_count": null,
      "outputs": [
        {
          "output_type": "execute_result",
          "data": {
            "text/html": [
              "<div>\n",
              "<style scoped>\n",
              "    .dataframe tbody tr th:only-of-type {\n",
              "        vertical-align: middle;\n",
              "    }\n",
              "\n",
              "    .dataframe tbody tr th {\n",
              "        vertical-align: top;\n",
              "    }\n",
              "\n",
              "    .dataframe thead th {\n",
              "        text-align: right;\n",
              "    }\n",
              "</style>\n",
              "<table border=\"1\" class=\"dataframe\">\n",
              "  <thead>\n",
              "    <tr style=\"text-align: right;\">\n",
              "      <th></th>\n",
              "      <th>index</th>\n",
              "      <th>Loan_ID</th>\n",
              "      <th>Gender</th>\n",
              "      <th>Married</th>\n",
              "      <th>Dependents</th>\n",
              "      <th>Graduate</th>\n",
              "      <th>Self_Employed</th>\n",
              "      <th>ApplicantIncome</th>\n",
              "      <th>CoapplicantIncome</th>\n",
              "      <th>LoanAmount</th>\n",
              "      <th>Loan_Amount_Term</th>\n",
              "      <th>Credit_History</th>\n",
              "      <th>Property_Area</th>\n",
              "      <th>Loan_Status</th>\n",
              "    </tr>\n",
              "  </thead>\n",
              "  <tbody>\n",
              "    <tr>\n",
              "      <th>275</th>\n",
              "      <td>275</td>\n",
              "      <td>1900</td>\n",
              "      <td>1</td>\n",
              "      <td>1</td>\n",
              "      <td>1</td>\n",
              "      <td>1</td>\n",
              "      <td>0</td>\n",
              "      <td>2750</td>\n",
              "      <td>1842.0</td>\n",
              "      <td>115</td>\n",
              "      <td>360</td>\n",
              "      <td>1</td>\n",
              "      <td>2</td>\n",
              "      <td>1</td>\n",
              "    </tr>\n",
              "    <tr>\n",
              "      <th>409</th>\n",
              "      <td>11</td>\n",
              "      <td>1900</td>\n",
              "      <td>1</td>\n",
              "      <td>1</td>\n",
              "      <td>1</td>\n",
              "      <td>1</td>\n",
              "      <td>0</td>\n",
              "      <td>2750</td>\n",
              "      <td>1842.0</td>\n",
              "      <td>115</td>\n",
              "      <td>333</td>\n",
              "      <td>1</td>\n",
              "      <td>2</td>\n",
              "      <td>1</td>\n",
              "    </tr>\n",
              "  </tbody>\n",
              "</table>\n",
              "</div>"
            ],
            "text/plain": [
              "     index  Loan_ID  Gender  ...  Credit_History  Property_Area  Loan_Status\n",
              "275    275     1900       1  ...               1              2            1\n",
              "409     11     1900       1  ...               1              2            1\n",
              "\n",
              "[2 rows x 14 columns]"
            ]
          },
          "metadata": {
            "tags": []
          },
          "execution_count": 26
        }
      ]
    },
    {
      "cell_type": "code",
      "metadata": {
        "id": "HSAeg8nJuNxH",
        "colab": {
          "base_uri": "https://localhost:8080/",
          "height": 160
        },
        "outputId": "b53edc15-1230-4168-9987-91e1b4a9cabd"
      },
      "source": [
        "# Check the header for the deduploans to make sure the columns are in the order expected\n",
        "deduploans.head(2)"
      ],
      "execution_count": null,
      "outputs": [
        {
          "output_type": "execute_result",
          "data": {
            "text/html": [
              "<div>\n",
              "<style scoped>\n",
              "    .dataframe tbody tr th:only-of-type {\n",
              "        vertical-align: middle;\n",
              "    }\n",
              "\n",
              "    .dataframe tbody tr th {\n",
              "        vertical-align: top;\n",
              "    }\n",
              "\n",
              "    .dataframe thead th {\n",
              "        text-align: right;\n",
              "    }\n",
              "</style>\n",
              "<table border=\"1\" class=\"dataframe\">\n",
              "  <thead>\n",
              "    <tr style=\"text-align: right;\">\n",
              "      <th></th>\n",
              "      <th>index</th>\n",
              "      <th>Gender</th>\n",
              "      <th>Married</th>\n",
              "      <th>Dependents</th>\n",
              "      <th>Graduate</th>\n",
              "      <th>Self_Employed</th>\n",
              "      <th>ApplicantIncome</th>\n",
              "      <th>CoapplicantIncome</th>\n",
              "      <th>LoanAmount</th>\n",
              "      <th>Loan_Amount_Term</th>\n",
              "      <th>Credit_History</th>\n",
              "      <th>Property_Area</th>\n",
              "      <th>Loan_Status</th>\n",
              "    </tr>\n",
              "    <tr>\n",
              "      <th>Loan_ID</th>\n",
              "      <th></th>\n",
              "      <th></th>\n",
              "      <th></th>\n",
              "      <th></th>\n",
              "      <th></th>\n",
              "      <th></th>\n",
              "      <th></th>\n",
              "      <th></th>\n",
              "      <th></th>\n",
              "      <th></th>\n",
              "      <th></th>\n",
              "      <th></th>\n",
              "      <th></th>\n",
              "    </tr>\n",
              "  </thead>\n",
              "  <tbody>\n",
              "    <tr>\n",
              "      <th>1900</th>\n",
              "      <td>275</td>\n",
              "      <td>1</td>\n",
              "      <td>1</td>\n",
              "      <td>1</td>\n",
              "      <td>1</td>\n",
              "      <td>0</td>\n",
              "      <td>2750</td>\n",
              "      <td>1842.0</td>\n",
              "      <td>115</td>\n",
              "      <td>360</td>\n",
              "      <td>1</td>\n",
              "      <td>2</td>\n",
              "      <td>1</td>\n",
              "    </tr>\n",
              "    <tr>\n",
              "      <th>1903</th>\n",
              "      <td>276</td>\n",
              "      <td>1</td>\n",
              "      <td>1</td>\n",
              "      <td>0</td>\n",
              "      <td>1</td>\n",
              "      <td>0</td>\n",
              "      <td>3993</td>\n",
              "      <td>3274.0</td>\n",
              "      <td>207</td>\n",
              "      <td>360</td>\n",
              "      <td>1</td>\n",
              "      <td>2</td>\n",
              "      <td>1</td>\n",
              "    </tr>\n",
              "  </tbody>\n",
              "</table>\n",
              "</div>"
            ],
            "text/plain": [
              "         index  Gender  Married  ...  Credit_History  Property_Area  Loan_Status\n",
              "Loan_ID                          ...                                            \n",
              "1900       275       1        1  ...               1              2            1\n",
              "1903       276       1        1  ...               1              2            1\n",
              "\n",
              "[2 rows x 13 columns]"
            ]
          },
          "metadata": {
            "tags": []
          },
          "execution_count": 27
        }
      ]
    },
    {
      "cell_type": "markdown",
      "metadata": {
        "id": "hE5_NQI_rNLp"
      },
      "source": [
        "## 3.4 Re-combine the non-duplicated records data frame with the de-duplicated records data frame and save a copy of the data to a file"
      ]
    },
    {
      "cell_type": "code",
      "metadata": {
        "id": "DFhMM0H9iow1",
        "colab": {
          "base_uri": "https://localhost:8080/",
          "height": 160
        },
        "outputId": "d12817ea-f7a5-4a56-c3cc-39a914f5ccd9"
      },
      "source": [
        "# Use the reset_index to bring Loan_ID back in to the data frame and call this data frame 'deduploansindex'\n",
        "deduploansindex = deduploans.reset_index()\n",
        "deduploansindex.head(3)"
      ],
      "execution_count": null,
      "outputs": [
        {
          "output_type": "execute_result",
          "data": {
            "text/html": [
              "<div>\n",
              "<style scoped>\n",
              "    .dataframe tbody tr th:only-of-type {\n",
              "        vertical-align: middle;\n",
              "    }\n",
              "\n",
              "    .dataframe tbody tr th {\n",
              "        vertical-align: top;\n",
              "    }\n",
              "\n",
              "    .dataframe thead th {\n",
              "        text-align: right;\n",
              "    }\n",
              "</style>\n",
              "<table border=\"1\" class=\"dataframe\">\n",
              "  <thead>\n",
              "    <tr style=\"text-align: right;\">\n",
              "      <th></th>\n",
              "      <th>Loan_ID</th>\n",
              "      <th>index</th>\n",
              "      <th>Gender</th>\n",
              "      <th>Married</th>\n",
              "      <th>Dependents</th>\n",
              "      <th>Graduate</th>\n",
              "      <th>Self_Employed</th>\n",
              "      <th>ApplicantIncome</th>\n",
              "      <th>CoapplicantIncome</th>\n",
              "      <th>LoanAmount</th>\n",
              "      <th>Loan_Amount_Term</th>\n",
              "      <th>Credit_History</th>\n",
              "      <th>Property_Area</th>\n",
              "      <th>Loan_Status</th>\n",
              "    </tr>\n",
              "  </thead>\n",
              "  <tbody>\n",
              "    <tr>\n",
              "      <th>0</th>\n",
              "      <td>1900</td>\n",
              "      <td>275</td>\n",
              "      <td>1</td>\n",
              "      <td>1</td>\n",
              "      <td>1</td>\n",
              "      <td>1</td>\n",
              "      <td>0</td>\n",
              "      <td>2750</td>\n",
              "      <td>1842.0</td>\n",
              "      <td>115</td>\n",
              "      <td>360</td>\n",
              "      <td>1</td>\n",
              "      <td>2</td>\n",
              "      <td>1</td>\n",
              "    </tr>\n",
              "    <tr>\n",
              "      <th>1</th>\n",
              "      <td>1903</td>\n",
              "      <td>276</td>\n",
              "      <td>1</td>\n",
              "      <td>1</td>\n",
              "      <td>0</td>\n",
              "      <td>1</td>\n",
              "      <td>0</td>\n",
              "      <td>3993</td>\n",
              "      <td>3274.0</td>\n",
              "      <td>207</td>\n",
              "      <td>360</td>\n",
              "      <td>1</td>\n",
              "      <td>2</td>\n",
              "      <td>1</td>\n",
              "    </tr>\n",
              "    <tr>\n",
              "      <th>2</th>\n",
              "      <td>1904</td>\n",
              "      <td>277</td>\n",
              "      <td>1</td>\n",
              "      <td>1</td>\n",
              "      <td>0</td>\n",
              "      <td>1</td>\n",
              "      <td>0</td>\n",
              "      <td>3103</td>\n",
              "      <td>1300.0</td>\n",
              "      <td>80</td>\n",
              "      <td>360</td>\n",
              "      <td>1</td>\n",
              "      <td>1</td>\n",
              "      <td>1</td>\n",
              "    </tr>\n",
              "  </tbody>\n",
              "</table>\n",
              "</div>"
            ],
            "text/plain": [
              "   Loan_ID  index  Gender  ...  Credit_History  Property_Area  Loan_Status\n",
              "0     1900    275       1  ...               1              2            1\n",
              "1     1903    276       1  ...               1              2            1\n",
              "2     1904    277       1  ...               1              1            1\n",
              "\n",
              "[3 rows x 14 columns]"
            ]
          },
          "metadata": {
            "tags": []
          },
          "execution_count": 28
        }
      ]
    },
    {
      "cell_type": "code",
      "metadata": {
        "colab": {
          "base_uri": "https://localhost:8080/",
          "height": 129
        },
        "id": "wGHXXgoJjrHH",
        "outputId": "142b06b1-80f1-4e17-afbf-9b5d5d9c4423"
      },
      "source": [
        "# Remove the index from the 'deduploansindex' data frame (added in previous step) to get back to the original data frame layout for recombining later\n",
        "del deduploansindex['index']\n",
        "deduploansindex.head(2)"
      ],
      "execution_count": null,
      "outputs": [
        {
          "output_type": "execute_result",
          "data": {
            "text/html": [
              "<div>\n",
              "<style scoped>\n",
              "    .dataframe tbody tr th:only-of-type {\n",
              "        vertical-align: middle;\n",
              "    }\n",
              "\n",
              "    .dataframe tbody tr th {\n",
              "        vertical-align: top;\n",
              "    }\n",
              "\n",
              "    .dataframe thead th {\n",
              "        text-align: right;\n",
              "    }\n",
              "</style>\n",
              "<table border=\"1\" class=\"dataframe\">\n",
              "  <thead>\n",
              "    <tr style=\"text-align: right;\">\n",
              "      <th></th>\n",
              "      <th>Loan_ID</th>\n",
              "      <th>Gender</th>\n",
              "      <th>Married</th>\n",
              "      <th>Dependents</th>\n",
              "      <th>Graduate</th>\n",
              "      <th>Self_Employed</th>\n",
              "      <th>ApplicantIncome</th>\n",
              "      <th>CoapplicantIncome</th>\n",
              "      <th>LoanAmount</th>\n",
              "      <th>Loan_Amount_Term</th>\n",
              "      <th>Credit_History</th>\n",
              "      <th>Property_Area</th>\n",
              "      <th>Loan_Status</th>\n",
              "    </tr>\n",
              "  </thead>\n",
              "  <tbody>\n",
              "    <tr>\n",
              "      <th>0</th>\n",
              "      <td>1900</td>\n",
              "      <td>1</td>\n",
              "      <td>1</td>\n",
              "      <td>1</td>\n",
              "      <td>1</td>\n",
              "      <td>0</td>\n",
              "      <td>2750</td>\n",
              "      <td>1842.0</td>\n",
              "      <td>115</td>\n",
              "      <td>360</td>\n",
              "      <td>1</td>\n",
              "      <td>2</td>\n",
              "      <td>1</td>\n",
              "    </tr>\n",
              "    <tr>\n",
              "      <th>1</th>\n",
              "      <td>1903</td>\n",
              "      <td>1</td>\n",
              "      <td>1</td>\n",
              "      <td>0</td>\n",
              "      <td>1</td>\n",
              "      <td>0</td>\n",
              "      <td>3993</td>\n",
              "      <td>3274.0</td>\n",
              "      <td>207</td>\n",
              "      <td>360</td>\n",
              "      <td>1</td>\n",
              "      <td>2</td>\n",
              "      <td>1</td>\n",
              "    </tr>\n",
              "  </tbody>\n",
              "</table>\n",
              "</div>"
            ],
            "text/plain": [
              "   Loan_ID  Gender  Married  ...  Credit_History  Property_Area  Loan_Status\n",
              "0     1900       1        1  ...               1              2            1\n",
              "1     1903       1        1  ...               1              2            1\n",
              "\n",
              "[2 rows x 13 columns]"
            ]
          },
          "metadata": {
            "tags": []
          },
          "execution_count": 29
        }
      ]
    },
    {
      "cell_type": "code",
      "metadata": {
        "colab": {
          "base_uri": "https://localhost:8080/",
          "height": 129
        },
        "id": "-lQk6vSrk8nt",
        "outputId": "90bad477-8484-4821-8b2f-dc1db7abb3b4"
      },
      "source": [
        "# Remove the index from the 'nonduploans' data frame (added in previous step) to get back to the original data frame layout for recombining later\n",
        "del nonduploans['index']\n",
        "nonduploans.head(2)"
      ],
      "execution_count": null,
      "outputs": [
        {
          "output_type": "execute_result",
          "data": {
            "text/html": [
              "<div>\n",
              "<style scoped>\n",
              "    .dataframe tbody tr th:only-of-type {\n",
              "        vertical-align: middle;\n",
              "    }\n",
              "\n",
              "    .dataframe tbody tr th {\n",
              "        vertical-align: top;\n",
              "    }\n",
              "\n",
              "    .dataframe thead th {\n",
              "        text-align: right;\n",
              "    }\n",
              "</style>\n",
              "<table border=\"1\" class=\"dataframe\">\n",
              "  <thead>\n",
              "    <tr style=\"text-align: right;\">\n",
              "      <th></th>\n",
              "      <th>Loan_ID</th>\n",
              "      <th>Gender</th>\n",
              "      <th>Married</th>\n",
              "      <th>Dependents</th>\n",
              "      <th>Graduate</th>\n",
              "      <th>Self_Employed</th>\n",
              "      <th>ApplicantIncome</th>\n",
              "      <th>CoapplicantIncome</th>\n",
              "      <th>LoanAmount</th>\n",
              "      <th>Loan_Amount_Term</th>\n",
              "      <th>Credit_History</th>\n",
              "      <th>Property_Area</th>\n",
              "      <th>Loan_Status</th>\n",
              "    </tr>\n",
              "  </thead>\n",
              "  <tbody>\n",
              "    <tr>\n",
              "      <th>0</th>\n",
              "      <td>1002</td>\n",
              "      <td>1</td>\n",
              "      <td>0</td>\n",
              "      <td>0</td>\n",
              "      <td>1</td>\n",
              "      <td>0</td>\n",
              "      <td>5849</td>\n",
              "      <td>0.0</td>\n",
              "      <td>128</td>\n",
              "      <td>360</td>\n",
              "      <td>1</td>\n",
              "      <td>1</td>\n",
              "      <td>1</td>\n",
              "    </tr>\n",
              "    <tr>\n",
              "      <th>1</th>\n",
              "      <td>1003</td>\n",
              "      <td>1</td>\n",
              "      <td>1</td>\n",
              "      <td>1</td>\n",
              "      <td>1</td>\n",
              "      <td>0</td>\n",
              "      <td>4583</td>\n",
              "      <td>1508.0</td>\n",
              "      <td>128</td>\n",
              "      <td>360</td>\n",
              "      <td>1</td>\n",
              "      <td>3</td>\n",
              "      <td>0</td>\n",
              "    </tr>\n",
              "  </tbody>\n",
              "</table>\n",
              "</div>"
            ],
            "text/plain": [
              "   Loan_ID  Gender  Married  ...  Credit_History  Property_Area  Loan_Status\n",
              "0     1002       1        0  ...               1              1            1\n",
              "1     1003       1        1  ...               1              3            0\n",
              "\n",
              "[2 rows x 13 columns]"
            ]
          },
          "metadata": {
            "tags": []
          },
          "execution_count": 30
        }
      ]
    },
    {
      "cell_type": "code",
      "metadata": {
        "colab": {
          "base_uri": "https://localhost:8080/"
        },
        "id": "rMLZ53uJomnn",
        "outputId": "bb4fecf7-0f3f-495b-c334-99f288e702c9"
      },
      "source": [
        "# Check the number of records that are left after removing the duplicates.  Record count should be halfed.\n",
        "print('There are now', len(deduploansindex), 'in the de-duplicated data set')"
      ],
      "execution_count": null,
      "outputs": [
        {
          "output_type": "stream",
          "text": [
            "There are now 28 in the de-duplicated data set\n"
          ],
          "name": "stdout"
        }
      ]
    },
    {
      "cell_type": "code",
      "metadata": {
        "id": "gBJobQkdqe5H",
        "colab": {
          "base_uri": "https://localhost:8080/"
        },
        "outputId": "5f2d3555-0e01-4eca-f0a7-2770ee5eac70"
      },
      "source": [
        "# Re-combine data frames that have the same column names using pandas.concat\n",
        "loans = pd.concat([nonduploans, deduploansindex])\n",
        "loans.isna().any()"
      ],
      "execution_count": null,
      "outputs": [
        {
          "output_type": "execute_result",
          "data": {
            "text/plain": [
              "Loan_ID              False\n",
              "Gender               False\n",
              "Married              False\n",
              "Dependents           False\n",
              "Graduate             False\n",
              "Self_Employed        False\n",
              "ApplicantIncome      False\n",
              "CoapplicantIncome    False\n",
              "LoanAmount           False\n",
              "Loan_Amount_Term     False\n",
              "Credit_History       False\n",
              "Property_Area        False\n",
              "Loan_Status          False\n",
              "dtype: bool"
            ]
          },
          "metadata": {
            "tags": []
          },
          "execution_count": 32
        }
      ]
    },
    {
      "cell_type": "code",
      "metadata": {
        "colab": {
          "base_uri": "https://localhost:8080/"
        },
        "id": "HfFMsXm4ioM6",
        "outputId": "d07c1439-2e81-450b-8496-16f463bf3926"
      },
      "source": [
        "# Display the number or records for the data sets\n",
        "print('Full merged data (no identical records):', len(df_merged))\n",
        "print('Non-dupes:', len(nonduploans))\n",
        "print('There are', len(duploans), 'records in the dataset containing duplicates')\n",
        "print('Duplicates removed:', len(duploans)-len(deduploansindex))\n",
        "print('The', len(nonduploans), 'non-dulicates, plus the', len(deduploansindex), 'remaining aftere removing duplicates is', len(nonduploans) + len(deduploans), 'records')\n",
        "print('The new loans data frame has', len(loans), 'records')"
      ],
      "execution_count": null,
      "outputs": [
        {
          "output_type": "stream",
          "text": [
            "Full merged data (no identical records): 642\n",
            "Non-dupes: 586\n",
            "There are 56 records in the dataset containing duplicates\n",
            "Duplicates removed: 28\n",
            "The 586 non-dulicates, plus the 28 remaining aftere removing duplicates is 614 records\n",
            "The new loans data frame has 614 records\n"
          ],
          "name": "stdout"
        }
      ]
    },
    {
      "cell_type": "code",
      "metadata": {
        "id": "ukcNQHOI7lmw"
      },
      "source": [
        "# Save the final merged and cleansed data to a CSV file\n",
        "loans.to_csv('Loans.csv', index=False)"
      ],
      "execution_count": null,
      "outputs": []
    },
    {
      "cell_type": "markdown",
      "metadata": {
        "id": "YxOewRj0536X"
      },
      "source": [
        "## 3.5.1 Check statistical values for the data set and run some exploratory Data Analysis (EDA) to understand what the data contains.\n",
        "Married, Graduate, Self_Employed and Credit_History values should be min=0 and max=1"
      ]
    },
    {
      "cell_type": "code",
      "metadata": {
        "colab": {
          "base_uri": "https://localhost:8080/"
        },
        "id": "L3_LyPF_KOGH",
        "outputId": "1c4024fc-84de-46f1-b58b-3f51022dc78d"
      },
      "source": [
        "# Convert CoapplicantIncome from float to integer for consistency when modelling (if this is included as a model feature)\n",
        "loans['CoapplicantIncome'] = loans['CoapplicantIncome'].astype(int)\n",
        "\n",
        "#Check the data has changed format to integer values\n",
        "loans['CoapplicantIncome'].head()"
      ],
      "execution_count": null,
      "outputs": [
        {
          "output_type": "execute_result",
          "data": {
            "text/plain": [
              "0       0\n",
              "1    1508\n",
              "2       0\n",
              "3    2358\n",
              "4       0\n",
              "Name: CoapplicantIncome, dtype: int64"
            ]
          },
          "metadata": {
            "tags": []
          },
          "execution_count": 35
        }
      ]
    },
    {
      "cell_type": "code",
      "metadata": {
        "colab": {
          "base_uri": "https://localhost:8080/",
          "height": 313
        },
        "id": "2hE08rvMukM6",
        "outputId": "0836d776-e567-49d8-a7b6-6987f1865372"
      },
      "source": [
        "# Get descriptive statistics for all data frame columns\n",
        "loans.describe()"
      ],
      "execution_count": null,
      "outputs": [
        {
          "output_type": "execute_result",
          "data": {
            "text/html": [
              "<div>\n",
              "<style scoped>\n",
              "    .dataframe tbody tr th:only-of-type {\n",
              "        vertical-align: middle;\n",
              "    }\n",
              "\n",
              "    .dataframe tbody tr th {\n",
              "        vertical-align: top;\n",
              "    }\n",
              "\n",
              "    .dataframe thead th {\n",
              "        text-align: right;\n",
              "    }\n",
              "</style>\n",
              "<table border=\"1\" class=\"dataframe\">\n",
              "  <thead>\n",
              "    <tr style=\"text-align: right;\">\n",
              "      <th></th>\n",
              "      <th>Loan_ID</th>\n",
              "      <th>Gender</th>\n",
              "      <th>Married</th>\n",
              "      <th>Dependents</th>\n",
              "      <th>Graduate</th>\n",
              "      <th>Self_Employed</th>\n",
              "      <th>ApplicantIncome</th>\n",
              "      <th>CoapplicantIncome</th>\n",
              "      <th>LoanAmount</th>\n",
              "      <th>Loan_Amount_Term</th>\n",
              "      <th>Credit_History</th>\n",
              "      <th>Property_Area</th>\n",
              "      <th>Loan_Status</th>\n",
              "    </tr>\n",
              "  </thead>\n",
              "  <tbody>\n",
              "    <tr>\n",
              "      <th>count</th>\n",
              "      <td>614.000000</td>\n",
              "      <td>614.000000</td>\n",
              "      <td>614.000000</td>\n",
              "      <td>614.000000</td>\n",
              "      <td>614.000000</td>\n",
              "      <td>614.000000</td>\n",
              "      <td>614.000000</td>\n",
              "      <td>614.00000</td>\n",
              "      <td>614.000000</td>\n",
              "      <td>614.000000</td>\n",
              "      <td>614.000000</td>\n",
              "      <td>614.000000</td>\n",
              "      <td>614.000000</td>\n",
              "    </tr>\n",
              "    <tr>\n",
              "      <th>mean</th>\n",
              "      <td>1999.785016</td>\n",
              "      <td>1.182410</td>\n",
              "      <td>0.648208</td>\n",
              "      <td>0.744300</td>\n",
              "      <td>0.781759</td>\n",
              "      <td>0.133550</td>\n",
              "      <td>5403.459283</td>\n",
              "      <td>1621.24430</td>\n",
              "      <td>148.757329</td>\n",
              "      <td>334.754072</td>\n",
              "      <td>0.773616</td>\n",
              "      <td>1.962541</td>\n",
              "      <td>0.687296</td>\n",
              "    </tr>\n",
              "    <tr>\n",
              "      <th>std</th>\n",
              "      <td>567.097644</td>\n",
              "      <td>0.386497</td>\n",
              "      <td>0.477919</td>\n",
              "      <td>1.009623</td>\n",
              "      <td>0.413389</td>\n",
              "      <td>0.340446</td>\n",
              "      <td>6109.041673</td>\n",
              "      <td>2926.24876</td>\n",
              "      <td>87.035205</td>\n",
              "      <td>63.930910</td>\n",
              "      <td>0.418832</td>\n",
              "      <td>0.787482</td>\n",
              "      <td>0.463973</td>\n",
              "    </tr>\n",
              "    <tr>\n",
              "      <th>min</th>\n",
              "      <td>1002.000000</td>\n",
              "      <td>1.000000</td>\n",
              "      <td>0.000000</td>\n",
              "      <td>0.000000</td>\n",
              "      <td>0.000000</td>\n",
              "      <td>0.000000</td>\n",
              "      <td>150.000000</td>\n",
              "      <td>0.00000</td>\n",
              "      <td>9.000000</td>\n",
              "      <td>12.000000</td>\n",
              "      <td>0.000000</td>\n",
              "      <td>1.000000</td>\n",
              "      <td>0.000000</td>\n",
              "    </tr>\n",
              "    <tr>\n",
              "      <th>25%</th>\n",
              "      <td>1532.750000</td>\n",
              "      <td>1.000000</td>\n",
              "      <td>0.000000</td>\n",
              "      <td>0.000000</td>\n",
              "      <td>1.000000</td>\n",
              "      <td>0.000000</td>\n",
              "      <td>2877.500000</td>\n",
              "      <td>0.00000</td>\n",
              "      <td>100.250000</td>\n",
              "      <td>333.000000</td>\n",
              "      <td>1.000000</td>\n",
              "      <td>1.000000</td>\n",
              "      <td>0.000000</td>\n",
              "    </tr>\n",
              "    <tr>\n",
              "      <th>50%</th>\n",
              "      <td>1993.500000</td>\n",
              "      <td>1.000000</td>\n",
              "      <td>1.000000</td>\n",
              "      <td>0.000000</td>\n",
              "      <td>1.000000</td>\n",
              "      <td>0.000000</td>\n",
              "      <td>3812.500000</td>\n",
              "      <td>1188.50000</td>\n",
              "      <td>128.000000</td>\n",
              "      <td>360.000000</td>\n",
              "      <td>1.000000</td>\n",
              "      <td>2.000000</td>\n",
              "      <td>1.000000</td>\n",
              "    </tr>\n",
              "    <tr>\n",
              "      <th>75%</th>\n",
              "      <td>2476.750000</td>\n",
              "      <td>1.000000</td>\n",
              "      <td>1.000000</td>\n",
              "      <td>1.000000</td>\n",
              "      <td>1.000000</td>\n",
              "      <td>0.000000</td>\n",
              "      <td>5795.000000</td>\n",
              "      <td>2297.25000</td>\n",
              "      <td>170.000000</td>\n",
              "      <td>360.000000</td>\n",
              "      <td>1.000000</td>\n",
              "      <td>3.000000</td>\n",
              "      <td>1.000000</td>\n",
              "    </tr>\n",
              "    <tr>\n",
              "      <th>max</th>\n",
              "      <td>2990.000000</td>\n",
              "      <td>2.000000</td>\n",
              "      <td>1.000000</td>\n",
              "      <td>3.000000</td>\n",
              "      <td>1.000000</td>\n",
              "      <td>1.000000</td>\n",
              "      <td>81000.000000</td>\n",
              "      <td>41667.00000</td>\n",
              "      <td>700.000000</td>\n",
              "      <td>480.000000</td>\n",
              "      <td>1.000000</td>\n",
              "      <td>3.000000</td>\n",
              "      <td>1.000000</td>\n",
              "    </tr>\n",
              "  </tbody>\n",
              "</table>\n",
              "</div>"
            ],
            "text/plain": [
              "           Loan_ID      Gender  ...  Property_Area  Loan_Status\n",
              "count   614.000000  614.000000  ...     614.000000   614.000000\n",
              "mean   1999.785016    1.182410  ...       1.962541     0.687296\n",
              "std     567.097644    0.386497  ...       0.787482     0.463973\n",
              "min    1002.000000    1.000000  ...       1.000000     0.000000\n",
              "25%    1532.750000    1.000000  ...       1.000000     0.000000\n",
              "50%    1993.500000    1.000000  ...       2.000000     1.000000\n",
              "75%    2476.750000    1.000000  ...       3.000000     1.000000\n",
              "max    2990.000000    2.000000  ...       3.000000     1.000000\n",
              "\n",
              "[8 rows x 13 columns]"
            ]
          },
          "metadata": {
            "tags": []
          },
          "execution_count": 36
        }
      ]
    },
    {
      "cell_type": "code",
      "metadata": {
        "id": "0Ngmkyk9qZKQ"
      },
      "source": [
        "# Create data frames for male and female, employed and self employed and graduates\n",
        "male = loans[loans['Gender'] == 1]\n",
        "female = loans[loans['Gender'] == 2]\n",
        "selfemp = loans[loans['Self_Employed'] == 1]\n",
        "emp = loans[loans['Self_Employed'] == 0]\n",
        "grads = loans[loans['Graduate'] == 1]\n",
        "married = loans[loans['Married'] == 1]"
      ],
      "execution_count": null,
      "outputs": []
    },
    {
      "cell_type": "code",
      "metadata": {
        "colab": {
          "base_uri": "https://localhost:8080/"
        },
        "id": "s4pfx1ZHU05Z",
        "outputId": "b0ec4774-4520-423e-fc2e-62306128563b"
      },
      "source": [
        "# Display the overall loan acceptance rate\n",
        "print(format(len(loans[loans['Loan_Status'] == 'Y']) / len(loans), '.2%'), 'of loans were accepted overall')\n",
        "\n",
        "# Compare the percentage of women versus men who had their loans accepted\n",
        "print(format(len(female[female['Loan_Status'] == 'Y']) / len(female), '.2%'), 'of women had their loans accepted')\n",
        "print('- The mean income for female applicants is', female['ApplicantIncome'].mean())\n",
        "print(format(len(male[male['Loan_Status'] == 'Y']) / len(male), '.2%'), 'of men had their loans accepted')\n",
        "print('- The mean income for male applicants is', male['ApplicantIncome'].mean())"
      ],
      "execution_count": null,
      "outputs": [
        {
          "output_type": "stream",
          "text": [
            "0.00% of loans were accepted overall\n",
            "0.00% of women had their loans accepted\n",
            "- The mean income for female applicants is 4643.473214285715\n",
            "0.00% of men had their loans accepted\n",
            "- The mean income for male applicants is 5573.017928286853\n"
          ],
          "name": "stdout"
        }
      ]
    },
    {
      "cell_type": "code",
      "metadata": {
        "id": "qxIl3Q6Kk60x",
        "colab": {
          "base_uri": "https://localhost:8080/",
          "height": 185
        },
        "outputId": "6785e413-3cdd-4eb2-9bd0-a393b0779179"
      },
      "source": [
        "# View the split of accepted vs. declined for women \n",
        "female['Loan_Status'].value_counts().plot(kind='barh', edgecolor=\"k\", figsize=(15,3))\n",
        "# Set the chart axis labels\n",
        "plt.xlabel('Count')\n",
        "plt.ylabel('Loan Accepted)');"
      ],
      "execution_count": null,
      "outputs": [
        {
          "output_type": "display_data",
          "data": {
            "image/png": "[encoded data removed]",
            "text/plain": [
              "<Figure size 1080x216 with 1 Axes>"
            ]
          },
          "metadata": {
            "tags": [],
            "needs_background": "light"
          }
        }
      ]
    },
    {
      "cell_type": "code",
      "metadata": {
        "id": "BKL_I_ibbvA_",
        "colab": {
          "base_uri": "https://localhost:8080/",
          "height": 141
        },
        "outputId": "bdb38fad-4b47-4441-97d8-1557155cca26"
      },
      "source": [
        "# View the split of accepted vs. declined for men\n",
        "male['Loan_Status'].value_counts().plot(kind='barh', edgecolor=\"k\", figsize=(15,2))\n",
        "plt.xlabel('Count')\n",
        "plt.ylabel('Loan Accepted)');"
      ],
      "execution_count": null,
      "outputs": [
        {
          "output_type": "display_data",
          "data": {
            "image/png": "[encoded data removed]",
            "text/plain": [
              "<Figure size 1080x144 with 1 Axes>"
            ]
          },
          "metadata": {
            "tags": [],
            "needs_background": "light"
          }
        }
      ]
    },
    {
      "cell_type": "code",
      "metadata": {
        "id": "UlV-Sxp4bWzs",
        "colab": {
          "base_uri": "https://localhost:8080/"
        },
        "outputId": "4af6ef71-436e-490b-fa97-506979a50b23"
      },
      "source": [
        "# Check the average income for all applicant types against the overall average to see which groups genereally earn more\n",
        "print('The mean income for applicants is', loans['ApplicantIncome'].mean())\n",
        "print('The median income for applicants is', loans['ApplicantIncome'].median())\n",
        "print('')\n",
        "\n",
        "# Compare acceptance for Self-Employed applicants \n",
        "print(format(len(selfemp[selfemp['Loan_Status'] == 'Y']) / len(selfemp), '.2%'), 'of self-employed applicants had their loans accepted')\n",
        "print(' - The mean income for self-employed applicants is', selfemp['ApplicantIncome'].mean())\n",
        "print(' - The median income for self-employed applicants is', selfemp['ApplicantIncome'].median())\n",
        "print('')\n",
        "\n",
        "# Compare acceptance for Employed applicants\n",
        "print(format(len(emp[emp['Loan_Status'] == 'Y']) / len(emp), '.2%'), 'of employed applicants had their loans accepted')\n",
        "print(' - The mean income for employed applicants is', emp['ApplicantIncome'].mean())\n",
        "print(' - The median income for employed applicants is', emp['ApplicantIncome'].median())\n",
        "print('')\n",
        "\n",
        "# Compare acceptance for Graduate applicants\n",
        "print(format(len(grads[grads['Loan_Status'] == 'Y']) / len(grads), '.2%'), 'of graduate applicants had their loans accepted')\n",
        "print(' - The mean income for graduate applicants is', grads['ApplicantIncome'].mean())\n",
        "print(' - The median income for graduate applicants is', grads['ApplicantIncome'].median())\n",
        "print('')\n",
        "\n",
        "# Compare acceptance for Married applicants\n",
        "print(format(len(married[married['Loan_Status'] == 'Y']) / len(married), '.2%'), 'of married applicants had their loans accepted')\n",
        "print(' - The mean income for married applicants is', married['ApplicantIncome'].mean())\n",
        "print(' - The median income for married applicants is', married['ApplicantIncome'].median())"
      ],
      "execution_count": null,
      "outputs": [
        {
          "output_type": "stream",
          "text": [
            "The mean income for applicants is 5403.459283387622\n",
            "The median income for applicants is 3812.5\n",
            "\n",
            "0.00% of self-employed applicants had their loans accepted\n",
            " - The mean income for self-employed applicants is 7380.817073170731\n",
            " - The median income for self-employed applicants is 5809.0\n",
            "\n",
            "0.00% of employed applicants had their loans accepted\n",
            " - The mean income for employed applicants is 5098.678571428572\n",
            " - The median income for employed applicants is 3698.0\n",
            "\n",
            "0.00% of graduate applicants had their loans accepted\n",
            " - The mean income for graduate applicants is 5857.433333333333\n",
            " - The median income for graduate applicants is 4000.0\n",
            "\n",
            "0.00% of married applicants had their loans accepted\n",
            " - The mean income for married applicants is 5629.173366834171\n",
            " - The median income for married applicants is 3854.5\n"
          ],
          "name": "stdout"
        }
      ]
    },
    {
      "cell_type": "code",
      "metadata": {
        "id": "69tf76E37QDg",
        "colab": {
          "base_uri": "https://localhost:8080/"
        },
        "outputId": "9f4bcf86-e334-4418-958d-91e9bddf11c6"
      },
      "source": [
        "# Create a dataframe with the ApplicantIncome and CoapplicantIncome for comparison\n",
        "ApIncome = loans[['ApplicantIncome', 'CoapplicantIncome']]\n",
        "ApIncome.info()"
      ],
      "execution_count": null,
      "outputs": [
        {
          "output_type": "stream",
          "text": [
            "<class 'pandas.core.frame.DataFrame'>\n",
            "Int64Index: 614 entries, 0 to 27\n",
            "Data columns (total 2 columns):\n",
            " #   Column             Non-Null Count  Dtype\n",
            "---  ------             --------------  -----\n",
            " 0   ApplicantIncome    614 non-null    int64\n",
            " 1   CoapplicantIncome  614 non-null    int64\n",
            "dtypes: int64(2)\n",
            "memory usage: 14.4 KB\n"
          ],
          "name": "stdout"
        }
      ]
    },
    {
      "cell_type": "code",
      "metadata": {
        "colab": {
          "base_uri": "https://localhost:8080/",
          "height": 295
        },
        "id": "RpIGhpdZ5uHR",
        "outputId": "da3dfe16-3ebb-49fc-e3b4-4ca1fcee9fd3"
      },
      "source": [
        "# Create a histogram to understand how the distribution of the ApplicantIncome values \n",
        "# Apply the histogram chart type to the ApplicantIncome values and set the edge colour of the bars and the number of bins that the dat should be allocated to\n",
        "plt.hist(ApIncome['ApplicantIncome'], edgecolor=\"k\", color='gray')\n",
        "# Set the chart title and axis labels\n",
        "plt.title('Histogram of Applicant Income Ranges')\n",
        "plt.xlabel('Applicant Income')\n",
        "plt.ylabel('Relative Frequency');"
      ],
      "execution_count": null,
      "outputs": [
        {
          "output_type": "display_data",
          "data": {
            "image/png": "[encoded data removed]",
            "text/plain": [
              "<Figure size 432x288 with 1 Axes>"
            ]
          },
          "metadata": {
            "tags": [],
            "needs_background": "light"
          }
        }
      ]
    },
    {
      "cell_type": "code",
      "metadata": {
        "id": "CGf9kZWEV7W7",
        "colab": {
          "base_uri": "https://localhost:8080/",
          "height": 253
        },
        "outputId": "120bae63-ad9c-4e94-dfd6-16140676b187"
      },
      "source": [
        "# Here we will use the Seaborn wrapper to create a box plot of the income values for primary and co-applicants to find any outliers\n",
        "# Create the plot canvas and set the size\n",
        "plt.figure(figsize=(15,5))\n",
        "\n",
        "# Create the box plot using the ApIncome data and use horizontal rotation \n",
        "sns.boxplot(data=ApIncome, orient='h')\n",
        "\n",
        "# Set the chart axis labels\n",
        "plt.xlabel('Income');"
      ],
      "execution_count": null,
      "outputs": [
        {
          "output_type": "display_data",
          "data": {
            "image/png": "[encoded data removed]",
            "text/plain": [
              "<Figure size 1080x360 with 1 Axes>"
            ]
          },
          "metadata": {
            "tags": [],
            "needs_background": "light"
          }
        }
      ]
    },
    {
      "cell_type": "markdown",
      "metadata": {
        "id": "-Aeg46iY-XSn"
      },
      "source": [
        "For reference, the below image shows Michael Galarnyk's explaination of how the boxplot works from the website\n",
        "https://towardsdatascience.com/understanding-boxplots-5e2df7bcbd51"
      ]
    },
    {
      "cell_type": "markdown",
      "metadata": {
        "id": "MPwwcQV4-QqE"
      },
      "source": [
        "![image.png](data:image/png;base64,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)"
      ]
    },
    {
      "cell_type": "markdown",
      "metadata": {
        "id": "V6GihO2J6YMi"
      },
      "source": [
        "The box plot suggests the outliers are applicants with incomes over approximately 10,000.\n",
        "Compare higher incomes outliers acceptance rate with the rate for all other applicants."
      ]
    },
    {
      "cell_type": "code",
      "metadata": {
        "colab": {
          "base_uri": "https://localhost:8080/"
        },
        "id": "rpLVlOQU7CEC",
        "outputId": "9d1994c6-c3c7-4953-ca75-e3aac8bbea7e"
      },
      "source": [
        "# Check if the high income applicants are more or less likely to be accepted\n",
        "# Create a high income data set containing all applicantincome values over 10000\n",
        "highincome = loans[loans['ApplicantIncome'] > 10000]\n",
        "\n",
        "# Create a regular income data set containing all applicantincome values of 10000 or less\n",
        "regincome = loans[loans['ApplicantIncome'] <= 10000]\n",
        "\n",
        "# Display the number and percentage of applicants that have incomes considered as outliers compared to the mean\n",
        "print(len(highincome), 'applicants,', format(len(highincome) / len(loans), '.1%'),\n",
        "      'of the total, have an income considered to be an outlier')"
      ],
      "execution_count": null,
      "outputs": [
        {
          "output_type": "stream",
          "text": [
            "52 applicants, 8.5% of the total, have an income considered to be an outlier\n"
          ],
          "name": "stdout"
        }
      ]
    },
    {
      "cell_type": "code",
      "metadata": {
        "colab": {
          "base_uri": "https://localhost:8080/",
          "height": 329
        },
        "id": "BBVKVTYN0ngA",
        "outputId": "70f53aa3-dcd8-4d2d-e0f0-35b4cf049e82"
      },
      "source": [
        "# Plot the results for the applicants \n",
        "highincome['Loan_Status'].value_counts().plot(\n",
        "    kind='bar', edgecolor=\"k\", xlabel='Loan Accepted (1=True)', ylabel='Nbr of Applicants', figsize=(5,5));"
      ],
      "execution_count": null,
      "outputs": [
        {
          "output_type": "display_data",
          "data": {
            "image/png": "[encoded data removed]",
            "text/plain": [
              "<Figure size 360x360 with 1 Axes>"
            ]
          },
          "metadata": {
            "tags": [],
            "needs_background": "light"
          }
        }
      ]
    },
    {
      "cell_type": "code",
      "metadata": {
        "colab": {
          "base_uri": "https://localhost:8080/"
        },
        "id": "RqZFbIN_Z0qI",
        "outputId": "bada178f-74f7-47e2-f31e-72385fcffbd3"
      },
      "source": [
        "# Display percentage of high income applicants that are accepted\n",
        "print('Percentage of high income applicants accepted:',\n",
        "      format(len(highincome[highincome['Loan_Status'] == 'Y'])/len(highincome), '.2%'))\n",
        "\n",
        "# Display percentage of regular income applicants that are accepted\n",
        "print('Percentage of regular income applicants accepted:',\n",
        "      format(len(regincome[regincome['Loan_Status'] == 'Y'])/len(regincome), '.2%'))"
      ],
      "execution_count": null,
      "outputs": [
        {
          "output_type": "stream",
          "text": [
            "Percentage of high income applicants accepted: 0.00%\n",
            "Percentage of regular income applicants accepted: 0.00%\n"
          ],
          "name": "stdout"
        }
      ]
    },
    {
      "cell_type": "markdown",
      "metadata": {
        "id": "uyoErWrjZx9P"
      },
      "source": [
        "While there are a number of applicants with incomes classed as outliers, there chance of being accepted is similar to that of the rest of the applicants, so if considering ApplicantIncome as a feature in the predicitive model, these outliers would not skew the results in any significant way."
      ]
    },
    {
      "cell_type": "markdown",
      "metadata": {
        "id": "MQeFAhLEFR8L"
      },
      "source": [
        "## 3.5.2 Exploratory data analysis"
      ]
    },
    {
      "cell_type": "code",
      "metadata": {
        "id": "lSxCzqpzvzwc",
        "colab": {
          "base_uri": "https://localhost:8080/",
          "height": 183
        },
        "outputId": "2e84de04-919d-44b8-bc91-161c89668d79"
      },
      "source": [
        "# Plot Gender values bar chart, these should be 1 or 2 only, to see the split of applicants by Gender\n",
        "\n",
        "# In the brackets's we pass in the plot type, the bar outline colour, the x axis label and the plot size (in inches, though this will vary depending on screen resolution/zoom settings)\n",
        "loans['Gender'].value_counts().plot(kind='barh', edgecolor=\"k\", figsize=(15,3), xlim=(0, 600))\n",
        "\n",
        "# Add data label for each axis\n",
        "plt.xlabel('Number of values')\n",
        "plt.ylabel('Gender (1=M, 2=F)');"
      ],
      "execution_count": null,
      "outputs": [
        {
          "output_type": "display_data",
          "data": {
            "image/png": "[encoded data removed]",
            "text/plain": [
              "<Figure size 1080x216 with 1 Axes>"
            ]
          },
          "metadata": {
            "tags": [],
            "needs_background": "light"
          }
        }
      ]
    },
    {
      "cell_type": "code",
      "metadata": {
        "id": "o6njC8XouKYP",
        "colab": {
          "base_uri": "https://localhost:8080/",
          "height": 183
        },
        "outputId": "292d83ce-928c-421c-f4f0-16e71e062340"
      },
      "source": [
        "# Plot Graduate values bar chart to compare acceptance, these should be 0 or 1 only\n",
        "loans['Graduate'].value_counts().plot(kind='barh', edgecolor=\"k\", figsize=(15,3), xlim=(0, 600))\n",
        "plt.xlabel('Graduate')\n",
        "plt.ylabel('Graduate (1=Grad)');"
      ],
      "execution_count": null,
      "outputs": [
        {
          "output_type": "display_data",
          "data": {
            "image/png": "[encoded data removed]",
            "text/plain": [
              "<Figure size 1080x216 with 1 Axes>"
            ]
          },
          "metadata": {
            "tags": [],
            "needs_background": "light"
          }
        }
      ]
    },
    {
      "cell_type": "code",
      "metadata": {
        "id": "7ewqNPrcuVdc",
        "colab": {
          "base_uri": "https://localhost:8080/",
          "height": 184
        },
        "outputId": "78c257bb-60c2-4043-a299-c50f003cf680"
      },
      "source": [
        "# Plot Credit_History values bar chart to compare acceptance, these should be 0 or 1 only\n",
        "loans['Credit_History'].value_counts().plot(kind='barh', edgecolor=\"k\", figsize=(15,3), xlim=(0, 600))\n",
        "plt.xlabel('Credit_History')\n",
        "plt.ylabel('Credit_History (1=True)');"
      ],
      "execution_count": null,
      "outputs": [
        {
          "output_type": "display_data",
          "data": {
            "image/png": "[encoded data removed]",
            "text/plain": [
              "<Figure size 1080x216 with 1 Axes>"
            ]
          },
          "metadata": {
            "tags": [],
            "needs_background": "light"
          }
        }
      ]
    },
    {
      "cell_type": "code",
      "metadata": {
        "id": "tfrK-U-YPZhI",
        "colab": {
          "base_uri": "https://localhost:8080/",
          "height": 220
        },
        "outputId": "2878967c-7566-492d-f629-cd079814c66e"
      },
      "source": [
        "# Plot Dependents values histogram, these should be integers of 0 or more\n",
        "loans['Dependents'].value_counts().plot(kind='bar', edgecolor=\"k\", figsize=(5,3))\n",
        "plt.xlabel('Dependents');"
      ],
      "execution_count": null,
      "outputs": [
        {
          "output_type": "display_data",
          "data": {
            "image/png": "[encoded data removed]",
            "text/plain": [
              "<Figure size 360x216 with 1 Axes>"
            ]
          },
          "metadata": {
            "tags": [],
            "needs_background": "light"
          }
        }
      ]
    },
    {
      "cell_type": "code",
      "metadata": {
        "id": "vWifIn6AuQNi",
        "colab": {
          "base_uri": "https://localhost:8080/",
          "height": 235
        },
        "outputId": "eb985fd6-2716-4faa-86a2-66286566a1d0"
      },
      "source": [
        "# Check the loan term lengths for any odd looking values (Note: its not clear what unit of measurement is)\n",
        "\n",
        "# Plot Loan_Amount_Term values histogram using sort_values() function to order the axis values from smallest to largest\n",
        "loans['Loan_Amount_Term'].value_counts().sort_values(ascending=True).plot(kind='bar', edgecolor=\"k\", figsize=(10,3))\n",
        "plt.xlabel('Loan_Amount_Term')\n",
        "plt.ylabel('Nbr of Applications');"
      ],
      "execution_count": null,
      "outputs": [
        {
          "output_type": "display_data",
          "data": {
            "image/png": "[encoded data removed]",
            "text/plain": [
              "<Figure size 720x216 with 1 Axes>"
            ]
          },
          "metadata": {
            "tags": [],
            "needs_background": "light"
          }
        }
      ]
    },
    {
      "cell_type": "markdown",
      "metadata": {
        "id": "h3RMXSKjrbBb"
      },
      "source": [
        "### Addressing Potential Gender Bias\n",
        "The [UK Equality Act 2010](https://www.legislation.gov.uk/ukpga/2010/15/section/13) offers individuals protection from discrimination, whether generated by a human or automated decision-making system.\n",
        "The GDPR Non-discrimination regulation (Article 21) complements this in it's inclusion of discrimination on the grounds sex.\n",
        "\n",
        "In the ICO blog [Human bias and discrimination in AI systems](https://ico.org.uk/about-the-ico/news-and-events/ai-blog-human-bias-and-discrimination-in-ai-systems/) having 'imbalanced training data' and 'training data that reflects past discrimination' are highlighted as other ways in which discrimination problems can occur in machine learning models.\n",
        "\n",
        "Given this is a legislative and ethical issue, 'Gender' must be removed as a feature of the predictive model to ensure there is at least no direct bias in our model."
      ]
    },
    {
      "cell_type": "code",
      "metadata": {
        "colab": {
          "base_uri": "https://localhost:8080/"
        },
        "id": "vwgRsCViyBbI",
        "outputId": "f0c3ab9c-c19c-47b6-c549-fafc8e6a2d9a"
      },
      "source": [
        "loans.isna().any()"
      ],
      "execution_count": null,
      "outputs": [
        {
          "output_type": "execute_result",
          "data": {
            "text/plain": [
              "Loan_ID              False\n",
              "Gender               False\n",
              "Married              False\n",
              "Dependents           False\n",
              "Graduate             False\n",
              "Self_Employed        False\n",
              "ApplicantIncome      False\n",
              "CoapplicantIncome    False\n",
              "LoanAmount           False\n",
              "Loan_Amount_Term     False\n",
              "Credit_History       False\n",
              "Property_Area        False\n",
              "Loan_Status          False\n",
              "dtype: bool"
            ]
          },
          "metadata": {
            "tags": []
          },
          "execution_count": 53
        }
      ]
    },
    {
      "cell_type": "code",
      "metadata": {
        "id": "jFK94y2wCbBg",
        "colab": {
          "base_uri": "https://localhost:8080/"
        },
        "outputId": "7344773e-2c27-4ed2-f64c-ae3f996cbbd2"
      },
      "source": [
        "# Use the pandas.corr() method to see if there there is any correlation between Gender and Loan_Status\n",
        "correlation = loans['Gender'].corr(loans['Loan_Status'])\n",
        "print('There is a', round(correlation, 3), 'correlation between Gender and Loan_Status')"
      ],
      "execution_count": null,
      "outputs": [
        {
          "output_type": "stream",
          "text": [
            "There is a  -0.018 correlation between Gender and Loan_Status\n"
          ],
          "name": "stdout"
        }
      ]
    },
    {
      "cell_type": "markdown",
      "metadata": {
        "id": "oxZuD6SxFmGW"
      },
      "source": [
        "# 4 - Perform predictive modelling\n",
        "1. Check the features in the data for correlation\n",
        "2. Split the columns into X features and Y labels\n",
        "3. Test, train, split\n",
        "4. Classify using a Classification Algorithm\n",
        "5. Create predictions for all test values"
      ]
    },
    {
      "cell_type": "markdown",
      "metadata": {
        "id": "coym7NabILJC"
      },
      "source": [
        "## 4.1 Analyse the data to check correlation betweeen features"
      ]
    },
    {
      "cell_type": "code",
      "metadata": {
        "id": "8oAtEYi12XQH"
      },
      "source": [
        "# Create a copy ofthe data to use in the modelling\n",
        "loans2 = loans.copy()\n",
        "\n",
        "# Remove Gender from the data set to avoid bias\n",
        "loans2.drop(['Gender', 'Loan_ID'], axis=1, inplace=True)"
      ],
      "execution_count": null,
      "outputs": []
    },
    {
      "cell_type": "code",
      "metadata": {
        "colab": {
          "base_uri": "https://localhost:8080/",
          "height": 404
        },
        "id": "dmMSku51QOtF",
        "outputId": "d1a9bb53-242b-4607-a8f3-1204a400f809"
      },
      "source": [
        "# Create and display the correlation matrix for values in the data to see which features corrolate positively and negatively\n",
        "corr = loans2.corr()\n",
        "corr"
      ],
      "execution_count": null,
      "outputs": [
        {
          "output_type": "execute_result",
          "data": {
            "text/html": [
              "<div>\n",
              "<style scoped>\n",
              "    .dataframe tbody tr th:only-of-type {\n",
              "        vertical-align: middle;\n",
              "    }\n",
              "\n",
              "    .dataframe tbody tr th {\n",
              "        vertical-align: top;\n",
              "    }\n",
              "\n",
              "    .dataframe thead th {\n",
              "        text-align: right;\n",
              "    }\n",
              "</style>\n",
              "<table border=\"1\" class=\"dataframe\">\n",
              "  <thead>\n",
              "    <tr style=\"text-align: right;\">\n",
              "      <th></th>\n",
              "      <th>Married</th>\n",
              "      <th>Dependents</th>\n",
              "      <th>Graduate</th>\n",
              "      <th>Self_Employed</th>\n",
              "      <th>ApplicantIncome</th>\n",
              "      <th>CoapplicantIncome</th>\n",
              "      <th>LoanAmount</th>\n",
              "      <th>Loan_Amount_Term</th>\n",
              "      <th>Credit_History</th>\n",
              "      <th>Property_Area</th>\n",
              "      <th>Loan_Status</th>\n",
              "    </tr>\n",
              "  </thead>\n",
              "  <tbody>\n",
              "    <tr>\n",
              "      <th>Married</th>\n",
              "      <td>1.000000</td>\n",
              "      <td>0.340684</td>\n",
              "      <td>-0.017671</td>\n",
              "      <td>0.008491</td>\n",
              "      <td>0.050194</td>\n",
              "      <td>0.080496</td>\n",
              "      <td>0.142151</td>\n",
              "      <td>-0.097980</td>\n",
              "      <td>-0.023626</td>\n",
              "      <td>-0.000395</td>\n",
              "      <td>0.084281</td>\n",
              "    </tr>\n",
              "    <tr>\n",
              "      <th>Dependents</th>\n",
              "      <td>0.340684</td>\n",
              "      <td>1.000000</td>\n",
              "      <td>-0.055752</td>\n",
              "      <td>0.056798</td>\n",
              "      <td>0.118202</td>\n",
              "      <td>0.030429</td>\n",
              "      <td>0.151151</td>\n",
              "      <td>-0.105331</td>\n",
              "      <td>-0.017523</td>\n",
              "      <td>0.000244</td>\n",
              "      <td>0.010118</td>\n",
              "    </tr>\n",
              "    <tr>\n",
              "      <th>Graduate</th>\n",
              "      <td>-0.017671</td>\n",
              "      <td>-0.055752</td>\n",
              "      <td>1.000000</td>\n",
              "      <td>0.010383</td>\n",
              "      <td>0.140760</td>\n",
              "      <td>0.062290</td>\n",
              "      <td>0.153454</td>\n",
              "      <td>0.082099</td>\n",
              "      <td>0.081637</td>\n",
              "      <td>-0.065243</td>\n",
              "      <td>0.085884</td>\n",
              "    </tr>\n",
              "    <tr>\n",
              "      <th>Self_Employed</th>\n",
              "      <td>0.008491</td>\n",
              "      <td>0.056798</td>\n",
              "      <td>0.010383</td>\n",
              "      <td>1.000000</td>\n",
              "      <td>0.127180</td>\n",
              "      <td>-0.016100</td>\n",
              "      <td>0.108948</td>\n",
              "      <td>-0.051704</td>\n",
              "      <td>-0.004994</td>\n",
              "      <td>0.030860</td>\n",
              "      <td>-0.003700</td>\n",
              "    </tr>\n",
              "    <tr>\n",
              "      <th>ApplicantIncome</th>\n",
              "      <td>0.050194</td>\n",
              "      <td>0.118202</td>\n",
              "      <td>0.140760</td>\n",
              "      <td>0.127180</td>\n",
              "      <td>1.000000</td>\n",
              "      <td>-0.116604</td>\n",
              "      <td>0.549594</td>\n",
              "      <td>-0.054802</td>\n",
              "      <td>0.006986</td>\n",
              "      <td>0.009500</td>\n",
              "      <td>-0.004710</td>\n",
              "    </tr>\n",
              "    <tr>\n",
              "      <th>CoapplicantIncome</th>\n",
              "      <td>0.080496</td>\n",
              "      <td>0.030429</td>\n",
              "      <td>0.062290</td>\n",
              "      <td>-0.016100</td>\n",
              "      <td>-0.116604</td>\n",
              "      <td>1.000000</td>\n",
              "      <td>0.178124</td>\n",
              "      <td>-0.061419</td>\n",
              "      <td>-0.058796</td>\n",
              "      <td>-0.010521</td>\n",
              "      <td>-0.059188</td>\n",
              "    </tr>\n",
              "    <tr>\n",
              "      <th>LoanAmount</th>\n",
              "      <td>0.142151</td>\n",
              "      <td>0.151151</td>\n",
              "      <td>0.153454</td>\n",
              "      <td>0.108948</td>\n",
              "      <td>0.549594</td>\n",
              "      <td>0.178124</td>\n",
              "      <td>1.000000</td>\n",
              "      <td>0.012635</td>\n",
              "      <td>-0.023796</td>\n",
              "      <td>0.041829</td>\n",
              "      <td>-0.058479</td>\n",
              "    </tr>\n",
              "    <tr>\n",
              "      <th>Loan_Amount_Term</th>\n",
              "      <td>-0.097980</td>\n",
              "      <td>-0.105331</td>\n",
              "      <td>0.082099</td>\n",
              "      <td>-0.051704</td>\n",
              "      <td>-0.054802</td>\n",
              "      <td>-0.061419</td>\n",
              "      <td>0.012635</td>\n",
              "      <td>1.000000</td>\n",
              "      <td>-0.004702</td>\n",
              "      <td>0.045732</td>\n",
              "      <td>-0.033615</td>\n",
              "    </tr>\n",
              "    <tr>\n",
              "      <th>Credit_History</th>\n",
              "      <td>-0.023626</td>\n",
              "      <td>-0.017523</td>\n",
              "      <td>0.081637</td>\n",
              "      <td>-0.004994</td>\n",
              "      <td>0.006986</td>\n",
              "      <td>-0.058796</td>\n",
              "      <td>-0.023796</td>\n",
              "      <td>-0.004702</td>\n",
              "      <td>1.000000</td>\n",
              "      <td>0.018761</td>\n",
              "      <td>0.432616</td>\n",
              "    </tr>\n",
              "    <tr>\n",
              "      <th>Property_Area</th>\n",
              "      <td>-0.000395</td>\n",
              "      <td>0.000244</td>\n",
              "      <td>-0.065243</td>\n",
              "      <td>0.030860</td>\n",
              "      <td>0.009500</td>\n",
              "      <td>-0.010521</td>\n",
              "      <td>0.041829</td>\n",
              "      <td>0.045732</td>\n",
              "      <td>0.018761</td>\n",
              "      <td>1.000000</td>\n",
              "      <td>-0.032112</td>\n",
              "    </tr>\n",
              "    <tr>\n",
              "      <th>Loan_Status</th>\n",
              "      <td>0.084281</td>\n",
              "      <td>0.010118</td>\n",
              "      <td>0.085884</td>\n",
              "      <td>-0.003700</td>\n",
              "      <td>-0.004710</td>\n",
              "      <td>-0.059188</td>\n",
              "      <td>-0.058479</td>\n",
              "      <td>-0.033615</td>\n",
              "      <td>0.432616</td>\n",
              "      <td>-0.032112</td>\n",
              "      <td>1.000000</td>\n",
              "    </tr>\n",
              "  </tbody>\n",
              "</table>\n",
              "</div>"
            ],
            "text/plain": [
              "                    Married  Dependents  ...  Property_Area  Loan_Status\n",
              "Married            1.000000    0.340684  ...      -0.000395     0.084281\n",
              "Dependents         0.340684    1.000000  ...       0.000244     0.010118\n",
              "Graduate          -0.017671   -0.055752  ...      -0.065243     0.085884\n",
              "Self_Employed      0.008491    0.056798  ...       0.030860    -0.003700\n",
              "ApplicantIncome    0.050194    0.118202  ...       0.009500    -0.004710\n",
              "CoapplicantIncome  0.080496    0.030429  ...      -0.010521    -0.059188\n",
              "LoanAmount         0.142151    0.151151  ...       0.041829    -0.058479\n",
              "Loan_Amount_Term  -0.097980   -0.105331  ...       0.045732    -0.033615\n",
              "Credit_History    -0.023626   -0.017523  ...       0.018761     0.432616\n",
              "Property_Area     -0.000395    0.000244  ...       1.000000    -0.032112\n",
              "Loan_Status        0.084281    0.010118  ...      -0.032112     1.000000\n",
              "\n",
              "[11 rows x 11 columns]"
            ]
          },
          "metadata": {
            "tags": []
          },
          "execution_count": 56
        }
      ]
    },
    {
      "cell_type": "code",
      "metadata": {
        "colab": {
          "base_uri": "https://localhost:8080/",
          "height": 573
        },
        "id": "vHTmgyyWQpD7",
        "outputId": "5460d882-dffb-4a08-f693-e14c7b31df78"
      },
      "source": [
        "# Display the correlation matrix chart.  Align the darker colour to the higher correlation values\n",
        "\n",
        "# Set the masked sections of the chart to make it less confusing to read \n",
        "mask = np.triu(np.ones_like(corr, dtype=bool))\n",
        "#Set the colour mapping to a diverging palette\n",
        "cmap = sns.diverging_palette(200, 20, as_cmap=True)\n",
        "\n",
        "# Plot the chart and the colour range as subplots, including the mask and cmap setting above\n",
        "f, ax = plt.subplots(figsize=(10,8))\n",
        "sns.heatmap(corr, mask=mask, cmap=cmap, vmax=1, center=0, square=True, linewidths=.5, annot=True);"
      ],
      "execution_count": null,
      "outputs": [
        {
          "output_type": "display_data",
          "data": {
            "image/png": "[encoded data removed]",
            "text/plain": [
              "<Figure size 720x576 with 2 Axes>"
            ]
          },
          "metadata": {
            "tags": [],
            "needs_background": "light"
          }
        }
      ]
    },
    {
      "cell_type": "markdown",
      "metadata": {
        "id": "f3wf96gj7oZi"
      },
      "source": [
        "## 4.2 - Correlation findings\n",
        "Correlation is a value between -1 and 1, where the closer to 1 the value is, the higher the positive correlation. Values closer to -1 are deemed negative correlation (e.g. the correlation between sales of meat and vegan products).\n",
        "\n",
        "The above matrix shows that the highest correlation is between LoanAmount and ApplicantIncome, with Credit_History and Loan_Status also seeing good correlation.\n",
        "\n",
        "As you might expect, Dependents is correlated closely to Dependents.  The LoanAmount is also positively correlated with the coapplicant's income and the main applicant's graduate status, number of dependents and marrital status.\n",
        "\n",
        "Applicant and Coapplicant income, despite being 2 of the 4 highest correlating features, do not have positive correlation to the Loan_Status, which is what we are looking to predict"
      ]
    },
    {
      "cell_type": "code",
      "metadata": {
        "id": "feFYZ1mVUalA"
      },
      "source": [
        "# Drop the features that are not requested in the model.\n",
        "loans2.drop(['Dependents', 'ApplicantIncome', 'CoapplicantIncome', 'LoanAmount', 'Loan_Amount_Term'], axis=1, inplace=True)"
      ],
      "execution_count": null,
      "outputs": []
    },
    {
      "cell_type": "code",
      "metadata": {
        "id": "BqiJYl9rUlt-"
      },
      "source": [
        "# Create a new correlation data frame taking the loans2 data set with model features only\n",
        "corr2 = loans2.corr()"
      ],
      "execution_count": null,
      "outputs": []
    },
    {
      "cell_type": "code",
      "metadata": {
        "colab": {
          "base_uri": "https://localhost:8080/",
          "height": 487
        },
        "id": "X0chSv8SUzXy",
        "outputId": "a83cbc8b-eeb1-43e5-ec0c-89d3b4f78c7f"
      },
      "source": [
        "# Create a new Correlation matric chart for the new loans2 data set \n",
        "# Set mask and colour map and display the chart\n",
        "mask = np.triu(np.ones_like(corr2, dtype=bool))\n",
        "cmap = sns.diverging_palette(100, 20, as_cmap=True)\n",
        "f, ax = plt.subplots(figsize=(10,8))\n",
        "sns.heatmap(corr2, mask=mask, cmap=cmap, vmax=1, center=0, square=True, linewidths=.5);"
      ],
      "execution_count": null,
      "outputs": [
        {
          "output_type": "display_data",
          "data": {
            "image/png": "[encoded data removed]",
            "text/plain": [
              "<Figure size 720x576 with 2 Axes>"
            ]
          },
          "metadata": {
            "tags": [],
            "needs_background": "light"
          }
        }
      ]
    },
    {
      "cell_type": "markdown",
      "metadata": {
        "id": "5sQ6RXqtIwdY"
      },
      "source": [
        "## 4.3 Split the data for training and testing"
      ]
    },
    {
      "cell_type": "code",
      "metadata": {
        "id": "MNQsnY6dKQyk"
      },
      "source": [
        "# For the predictive model we now need to split the data set of features (inputs) and outcomes (outputs)\n",
        "\n",
        "# For data set X, we drop the Loan_Status column\n",
        "X = loans2.drop('Loan_Status', axis=1)\n",
        "# For the y data set we take only the Loan_Status column\n",
        "y = loans2['Loan_Status']"
      ],
      "execution_count": null,
      "outputs": []
    },
    {
      "cell_type": "code",
      "metadata": {
        "colab": {
          "base_uri": "https://localhost:8080/",
          "height": 201
        },
        "id": "jMt6QmEvKXb9",
        "outputId": "592a623f-ad2e-4ae2-bad0-6b892ca8bdfc"
      },
      "source": [
        "# Show the X data header\n",
        "X.head()"
      ],
      "execution_count": null,
      "outputs": [
        {
          "output_type": "execute_result",
          "data": {
            "text/html": [
              "<div>\n",
              "<style scoped>\n",
              "    .dataframe tbody tr th:only-of-type {\n",
              "        vertical-align: middle;\n",
              "    }\n",
              "\n",
              "    .dataframe tbody tr th {\n",
              "        vertical-align: top;\n",
              "    }\n",
              "\n",
              "    .dataframe thead th {\n",
              "        text-align: right;\n",
              "    }\n",
              "</style>\n",
              "<table border=\"1\" class=\"dataframe\">\n",
              "  <thead>\n",
              "    <tr style=\"text-align: right;\">\n",
              "      <th></th>\n",
              "      <th>Married</th>\n",
              "      <th>Graduate</th>\n",
              "      <th>Self_Employed</th>\n",
              "      <th>Credit_History</th>\n",
              "      <th>Property_Area</th>\n",
              "    </tr>\n",
              "  </thead>\n",
              "  <tbody>\n",
              "    <tr>\n",
              "      <th>0</th>\n",
              "      <td>0</td>\n",
              "      <td>1</td>\n",
              "      <td>0</td>\n",
              "      <td>1</td>\n",
              "      <td>1</td>\n",
              "    </tr>\n",
              "    <tr>\n",
              "      <th>1</th>\n",
              "      <td>1</td>\n",
              "      <td>1</td>\n",
              "      <td>0</td>\n",
              "      <td>1</td>\n",
              "      <td>3</td>\n",
              "    </tr>\n",
              "    <tr>\n",
              "      <th>2</th>\n",
              "      <td>1</td>\n",
              "      <td>1</td>\n",
              "      <td>1</td>\n",
              "      <td>1</td>\n",
              "      <td>1</td>\n",
              "    </tr>\n",
              "    <tr>\n",
              "      <th>3</th>\n",
              "      <td>1</td>\n",
              "      <td>0</td>\n",
              "      <td>0</td>\n",
              "      <td>1</td>\n",
              "      <td>1</td>\n",
              "    </tr>\n",
              "    <tr>\n",
              "      <th>4</th>\n",
              "      <td>0</td>\n",
              "      <td>1</td>\n",
              "      <td>0</td>\n",
              "      <td>1</td>\n",
              "      <td>1</td>\n",
              "    </tr>\n",
              "  </tbody>\n",
              "</table>\n",
              "</div>"
            ],
            "text/plain": [
              "   Married  Graduate  Self_Employed  Credit_History  Property_Area\n",
              "0        0         1              0               1              1\n",
              "1        1         1              0               1              3\n",
              "2        1         1              1               1              1\n",
              "3        1         0              0               1              1\n",
              "4        0         1              0               1              1"
            ]
          },
          "metadata": {
            "tags": []
          },
          "execution_count": 62
        }
      ]
    },
    {
      "cell_type": "code",
      "metadata": {
        "colab": {
          "base_uri": "https://localhost:8080/"
        },
        "id": "dI991sVCLBlo",
        "outputId": "0c516cb2-7f2f-4c4b-c62f-52056e48dfa7"
      },
      "source": [
        "#Show the y data header\n",
        "y.head()"
      ],
      "execution_count": null,
      "outputs": [
        {
          "output_type": "execute_result",
          "data": {
            "text/plain": [
              "0    1\n",
              "1    0\n",
              "2    1\n",
              "3    1\n",
              "4    1\n",
              "Name: Loan_Status, dtype: int64"
            ]
          },
          "metadata": {
            "tags": []
          },
          "execution_count": 63
        }
      ]
    },
    {
      "cell_type": "markdown",
      "metadata": {
        "id": "i9SLZ4FKLuxk"
      },
      "source": [
        "4.3 Split the data to training and testing sets\n",
        "A random split based on a percentage of the overal data will be used"
      ]
    },
    {
      "cell_type": "code",
      "metadata": {
        "id": "VqtfOBfMLYzI"
      },
      "source": [
        "# Using the SciKitLearn 'train_test_split', split the data in to subsets. One to train the model on, one to test it on.\n",
        "\n",
        "# Import the model\n",
        "from sklearn.model_selection import train_test_split\n",
        "\n",
        "# Assign data randomly to the X and y training and testing data subsets using the train_test_split function\n",
        "# Note the testing data set size is set to 0.2, this will take 20% of the X and y data sets create previously\n",
        "X_train, X_test, y_train, y_test = train_test_split(X, y, test_size=0.2, random_state=0)"
      ],
      "execution_count": null,
      "outputs": []
    },
    {
      "cell_type": "code",
      "metadata": {
        "colab": {
          "base_uri": "https://localhost:8080/"
        },
        "id": "NTx6aONZGD-W",
        "outputId": "8ae26163-021c-45a2-a069-a1c57e277788"
      },
      "source": [
        "# Check the training and test data sets \n",
        "print('Training record count:', len(X_train))\n",
        "print('Testing record count:', len(X_test))\n",
        "print('Total record count', len(X_train)+len(X_test))"
      ],
      "execution_count": null,
      "outputs": [
        {
          "output_type": "stream",
          "text": [
            "Training record count: 491\n",
            "Testing record count: 123\n",
            "Total record count 614\n"
          ],
          "name": "stdout"
        }
      ]
    },
    {
      "cell_type": "markdown",
      "metadata": {
        "id": "5gDoPE_xOPIm"
      },
      "source": [
        "## 4.4 Create the model\n",
        "As the objective is to arrive at a prediction of approved/rejected, we will use binary classification DecisionTreeRegressor model.\n",
        "\n",
        "\"Decision Tree algorithms are effective [3] in that they provide human-readable rules of classification. Beside this\n",
        "it has some drawbacks, one of which is the sorting of all numerical attributes when the tree decides to split a node. Such split on sorting all numerical attributes becomes costly i.e. efficiency or running time and memory size, especially if Decision Trees are set on data the size of\n",
        "which is large i.e. it has more number of instances\"\n",
        "\n",
        "Reference Article: https://www.researchgate.net/profile/Nasir_Ahmad7/publication/259235118_Random_Forests_and_Decision_Trees/links/02e7e52a9a3a0a4ce6000000/Random-Forests-and-Decision-Trees.pdf\n"
      ]
    },
    {
      "cell_type": "code",
      "metadata": {
        "colab": {
          "base_uri": "https://localhost:8080/"
        },
        "id": "kPREDZGTLaJ-",
        "outputId": "3ab3184f-21f2-464f-edf1-c8657d495398"
      },
      "source": [
        "# Import the DescisionTreeRegressor model\n",
        "from sklearn.tree import DecisionTreeRegressor\n",
        "\n",
        "# Assign the DiscisionTreeRegressor function to the object 'regressor'\n",
        "regressor = DecisionTreeRegressor()\n",
        "# Assign the data to the model parameters \n",
        "regressor.fit(X_train, y_train)"
      ],
      "execution_count": null,
      "outputs": [
        {
          "output_type": "execute_result",
          "data": {
            "text/plain": [
              "DecisionTreeRegressor(ccp_alpha=0.0, criterion='mse', max_depth=None,\n",
              "                      max_features=None, max_leaf_nodes=None,\n",
              "                      min_impurity_decrease=0.0, min_impurity_split=None,\n",
              "                      min_samples_leaf=1, min_samples_split=2,\n",
              "                      min_weight_fraction_leaf=0.0, presort='deprecated',\n",
              "                      random_state=None, splitter='best')"
            ]
          },
          "metadata": {
            "tags": []
          },
          "execution_count": 66
        }
      ]
    },
    {
      "cell_type": "code",
      "metadata": {
        "id": "_3lz0-zWLfVE"
      },
      "source": [
        "# Assign the predictions from the model to a new object called 'y_pred'.\n",
        "# The values rturned in y_pred are the predicted outcomes based on what the model learned from the training data set in the previus step.\n",
        "y_pred = regressor.predict(X_test)"
      ],
      "execution_count": null,
      "outputs": []
    },
    {
      "cell_type": "code",
      "metadata": {
        "id": "8fWQhUZvLgze"
      },
      "source": [
        "# Create a new data fram showing the Actuals (from y_test) against the predictions (from y_pred)\n",
        "df = pd.DataFrame({'Actual':y_test, 'Predicted':y_pred})"
      ],
      "execution_count": null,
      "outputs": []
    },
    {
      "cell_type": "code",
      "metadata": {
        "colab": {
          "base_uri": "https://localhost:8080/",
          "height": 201
        },
        "id": "q_EsG46EQ8BI",
        "outputId": "175d5539-2409-4c5b-91a0-128311191bdb"
      },
      "source": [
        "# Here's how the df data set looks, the prdictions being a confidence rating\n",
        "# Anything over .5 would result in a positive, therefore 'accepted' status.\n",
        "# Anything below would be classed as negative and therefore 'rejected'.\n",
        "df.head(5)"
      ],
      "execution_count": null,
      "outputs": [
        {
          "output_type": "execute_result",
          "data": {
            "text/html": [
              "<div>\n",
              "<style scoped>\n",
              "    .dataframe tbody tr th:only-of-type {\n",
              "        vertical-align: middle;\n",
              "    }\n",
              "\n",
              "    .dataframe tbody tr th {\n",
              "        vertical-align: top;\n",
              "    }\n",
              "\n",
              "    .dataframe thead th {\n",
              "        text-align: right;\n",
              "    }\n",
              "</style>\n",
              "<table border=\"1\" class=\"dataframe\">\n",
              "  <thead>\n",
              "    <tr style=\"text-align: right;\">\n",
              "      <th></th>\n",
              "      <th>Actual</th>\n",
              "      <th>Predicted</th>\n",
              "    </tr>\n",
              "  </thead>\n",
              "  <tbody>\n",
              "    <tr>\n",
              "      <th>510</th>\n",
              "      <td>1</td>\n",
              "      <td>0.893333</td>\n",
              "    </tr>\n",
              "    <tr>\n",
              "      <th>52</th>\n",
              "      <td>0</td>\n",
              "      <td>0.833333</td>\n",
              "    </tr>\n",
              "    <tr>\n",
              "      <th>592</th>\n",
              "      <td>0</td>\n",
              "      <td>0.500000</td>\n",
              "    </tr>\n",
              "    <tr>\n",
              "      <th>525</th>\n",
              "      <td>1</td>\n",
              "      <td>0.500000</td>\n",
              "    </tr>\n",
              "    <tr>\n",
              "      <th>55</th>\n",
              "      <td>1</td>\n",
              "      <td>0.893333</td>\n",
              "    </tr>\n",
              "  </tbody>\n",
              "</table>\n",
              "</div>"
            ],
            "text/plain": [
              "     Actual  Predicted\n",
              "510       1   0.893333\n",
              "52        0   0.833333\n",
              "592       0   0.500000\n",
              "525       1   0.500000\n",
              "55        1   0.893333"
            ]
          },
          "metadata": {
            "tags": []
          },
          "execution_count": 69
        }
      ]
    },
    {
      "cell_type": "code",
      "metadata": {
        "id": "TGVbQU6J4kVK"
      },
      "source": [
        "# Convert the float values in to integers\n",
        "df['Predicted'] = df['Predicted'].round(0).astype(int)"
      ],
      "execution_count": null,
      "outputs": []
    },
    {
      "cell_type": "code",
      "metadata": {
        "colab": {
          "base_uri": "https://localhost:8080/",
          "height": 201
        },
        "id": "ztcSIhF86FWc",
        "outputId": "e4248448-212e-461d-83da-cd9e5fccdeda"
      },
      "source": [
        "df.head()"
      ],
      "execution_count": null,
      "outputs": [
        {
          "output_type": "execute_result",
          "data": {
            "text/html": [
              "<div>\n",
              "<style scoped>\n",
              "    .dataframe tbody tr th:only-of-type {\n",
              "        vertical-align: middle;\n",
              "    }\n",
              "\n",
              "    .dataframe tbody tr th {\n",
              "        vertical-align: top;\n",
              "    }\n",
              "\n",
              "    .dataframe thead th {\n",
              "        text-align: right;\n",
              "    }\n",
              "</style>\n",
              "<table border=\"1\" class=\"dataframe\">\n",
              "  <thead>\n",
              "    <tr style=\"text-align: right;\">\n",
              "      <th></th>\n",
              "      <th>Actual</th>\n",
              "      <th>Predicted</th>\n",
              "    </tr>\n",
              "  </thead>\n",
              "  <tbody>\n",
              "    <tr>\n",
              "      <th>510</th>\n",
              "      <td>1</td>\n",
              "      <td>1</td>\n",
              "    </tr>\n",
              "    <tr>\n",
              "      <th>52</th>\n",
              "      <td>0</td>\n",
              "      <td>1</td>\n",
              "    </tr>\n",
              "    <tr>\n",
              "      <th>592</th>\n",
              "      <td>0</td>\n",
              "      <td>0</td>\n",
              "    </tr>\n",
              "    <tr>\n",
              "      <th>525</th>\n",
              "      <td>1</td>\n",
              "      <td>0</td>\n",
              "    </tr>\n",
              "    <tr>\n",
              "      <th>55</th>\n",
              "      <td>1</td>\n",
              "      <td>1</td>\n",
              "    </tr>\n",
              "  </tbody>\n",
              "</table>\n",
              "</div>"
            ],
            "text/plain": [
              "     Actual  Predicted\n",
              "510       1          1\n",
              "52        0          1\n",
              "592       0          0\n",
              "525       1          0\n",
              "55        1          1"
            ]
          },
          "metadata": {
            "tags": []
          },
          "execution_count": 71
        }
      ]
    },
    {
      "cell_type": "code",
      "metadata": {
        "colab": {
          "base_uri": "https://localhost:8080/",
          "height": 170
        },
        "id": "WK-Ba2sASoek",
        "outputId": "f8a9a83a-9811-4f72-9c32-77554f8c74dc"
      },
      "source": [
        "# Group the data by The Actual and Predicted values and count the nymber of occurences\n",
        "df.groupby([\"Actual\", \"Predicted\"]).size().reset_index(name=\"Count\")"
      ],
      "execution_count": null,
      "outputs": [
        {
          "output_type": "execute_result",
          "data": {
            "text/html": [
              "<div>\n",
              "<style scoped>\n",
              "    .dataframe tbody tr th:only-of-type {\n",
              "        vertical-align: middle;\n",
              "    }\n",
              "\n",
              "    .dataframe tbody tr th {\n",
              "        vertical-align: top;\n",
              "    }\n",
              "\n",
              "    .dataframe thead th {\n",
              "        text-align: right;\n",
              "    }\n",
              "</style>\n",
              "<table border=\"1\" class=\"dataframe\">\n",
              "  <thead>\n",
              "    <tr style=\"text-align: right;\">\n",
              "      <th></th>\n",
              "      <th>Actual</th>\n",
              "      <th>Predicted</th>\n",
              "      <th>Count</th>\n",
              "    </tr>\n",
              "  </thead>\n",
              "  <tbody>\n",
              "    <tr>\n",
              "      <th>0</th>\n",
              "      <td>0</td>\n",
              "      <td>0</td>\n",
              "      <td>21</td>\n",
              "    </tr>\n",
              "    <tr>\n",
              "      <th>1</th>\n",
              "      <td>0</td>\n",
              "      <td>1</td>\n",
              "      <td>19</td>\n",
              "    </tr>\n",
              "    <tr>\n",
              "      <th>2</th>\n",
              "      <td>1</td>\n",
              "      <td>0</td>\n",
              "      <td>7</td>\n",
              "    </tr>\n",
              "    <tr>\n",
              "      <th>3</th>\n",
              "      <td>1</td>\n",
              "      <td>1</td>\n",
              "      <td>76</td>\n",
              "    </tr>\n",
              "  </tbody>\n",
              "</table>\n",
              "</div>"
            ],
            "text/plain": [
              "   Actual  Predicted  Count\n",
              "0       0          0     21\n",
              "1       0          1     19\n",
              "2       1          0      7\n",
              "3       1          1     76"
            ]
          },
          "metadata": {
            "tags": []
          },
          "execution_count": 72
        }
      ]
    },
    {
      "cell_type": "markdown",
      "metadata": {
        "id": "OeykiqZVZa5S"
      },
      "source": [
        "## 4.5 Scoring the model\n",
        "We'll check 3 metrics\n",
        "\n",
        "* Mean Absolute Error (MAE): This measures the absolute average distance between the real data and the predicted data, but it fails to punish large errors in prediction.\n",
        "* Mean Square Error (MSE): This measures the squared average distance between the real data and the predicted data.  Because it squares the errors, bigger errors are penalised more than smaller ones.\n",
        "* Root Mean Squared Error (RMSE): This is actually the square root of MSE. Also, this metrics solves the problem of squaring the units.  The lower the value, the more accurate the model's predictions are.\n",
        "\n",
        "When creating multiple models, scoring can be used to compare how well each perfomred. Note that the results are likely to change each time the model is trained, since we randomly assign values when we build it."
      ]
    },
    {
      "cell_type": "code",
      "metadata": {
        "colab": {
          "base_uri": "https://localhost:8080/"
        },
        "id": "uWToiYKULvqH",
        "outputId": "8851f95d-e21c-40a9-84a6-9ed705995bdb"
      },
      "source": [
        "# Import the metics library\n",
        "from sklearn import metrics\n",
        "# Calculate the metrics\n",
        "print('Mean Absolute Error:', metrics.mean_absolute_error(y_test, y_pred))\n",
        "print('Mean Squared Error:', metrics.mean_squared_error(y_test, y_pred))\n",
        "print('Root Mean Squared Error:', np.sqrt(metrics.mean_squared_error(y_test, y_pred)))"
      ],
      "execution_count": null,
      "outputs": [
        {
          "output_type": "stream",
          "text": [
            "Mean Absolute Error: 0.34675592472681727\n",
            "Mean Squared Error: 0.17487860496448676\n",
            "Root Mean Squared Error: 0.41818489327627173\n"
          ],
          "name": "stdout"
        }
      ]
    },
    {
      "cell_type": "code",
      "metadata": {
        "colab": {
          "base_uri": "https://localhost:8080/",
          "height": 278
        },
        "id": "7-w1wFXGL2ac",
        "outputId": "923a6e52-7497-4bae-c9a8-4910b57fe552"
      },
      "source": [
        "# Create a confusion matrix using SciKit Learn's confusion_matrix\n",
        "# Plot this using Seaborn's heatmap to see the predictions vs actuals \n",
        "from sklearn.metrics import confusion_matrix\n",
        "\n",
        "# Create confusion matrix dataframe\n",
        "mat = confusion_matrix(y_test, y_pred.round())\n",
        "\n",
        "# Plot the dataframe using heatmap, passing in the data and rendering settings, then adding the axis labels\n",
        "sns.heatmap(mat.T, square=True, annot=True, fmt='d', cbar=False, cmap=cmap)\n",
        "plt.xlabel('true label')\n",
        "plt.ylabel('predicted label');"
      ],
      "execution_count": null,
      "outputs": [
        {
          "output_type": "display_data",
          "data": {
            "image/png": "[encoded data removed]",
            "text/plain": [
              "<Figure size 432x288 with 1 Axes>"
            ]
          },
          "metadata": {
            "tags": [],
            "needs_background": "light"
          }
        }
      ]
    },
    {
      "cell_type": "markdown",
      "metadata": {
        "id": "xxI1pBwM0oqj"
      },
      "source": [
        "Calculate Decision Tree Accuracy"
      ]
    },
    {
      "cell_type": "code",
      "metadata": {
        "id": "e3HaDTI7oSvV",
        "colab": {
          "base_uri": "https://localhost:8080/"
        },
        "outputId": "c91d2b1b-111d-4fa3-949c-c6891c7f18fe"
      },
      "source": [
        "# Create an accuracy score using the built in metrics function and assign to the object accSK\n",
        "# Predictions are being rounded since they are currently stored as floating point values (decimals)\n",
        "accSK = metrics.accuracy_score(y_test, y_pred.round())\n",
        "\n",
        "# Display the value assigne to accSK (accuracy score)\n",
        "print('DecisionTree Model Accuracy:', format(accSK, '.4%'))"
      ],
      "execution_count": null,
      "outputs": [
        {
          "output_type": "stream",
          "text": [
            "DecisionTree Model Accuracy: 78.8618%\n"
          ],
          "name": "stdout"
        }
      ]
    }
  ]
}